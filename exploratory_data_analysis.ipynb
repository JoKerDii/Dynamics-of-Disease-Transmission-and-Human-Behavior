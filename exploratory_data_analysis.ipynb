{
  "nbformat": 4,
  "nbformat_minor": 0,
  "metadata": {
    "colab": {
      "name": "Exploratory_Data_Analysis.ipynb",
      "provenance": [],
      "collapsed_sections": []
    },
    "kernelspec": {
      "name": "python3",
      "display_name": "Python 3"
    },
    "language_info": {
      "name": "python"
    }
  },
  "cells": [
    {
      "cell_type": "markdown",
      "source": [
        "# Dynamics of Disease Transmission and Human Behavior Project\n",
        "\n",
        "# Exploratory Data Analysis"
      ],
      "metadata": {
        "id": "LrvIX6l6lofx"
      }
    },
    {
      "cell_type": "code",
      "source": [
        "from google.colab import drive\n",
        "drive.mount(\"/content/drive\")"
      ],
      "metadata": {
        "colab": {
          "base_uri": "https://localhost:8080/"
        },
        "id": "1A_lBlsY0os2",
        "outputId": "7a10e28a-98ec-4084-f293-58e9cd070a57"
      },
      "execution_count": 1,
      "outputs": [
        {
          "output_type": "stream",
          "name": "stdout",
          "text": [
            "Drive already mounted at /content/drive; to attempt to forcibly remount, call drive.mount(\"/content/drive\", force_remount=True).\n"
          ]
        }
      ]
    },
    {
      "cell_type": "code",
      "source": [
        "import pandas as pd\n",
        "import numpy as np\n",
        "import matplotlib.pyplot as plt\n",
        "from sklearn.impute import KNNImputer\n",
        "import seaborn as sns"
      ],
      "metadata": {
        "id": "Vqhj-JCC01QL"
      },
      "execution_count": 2,
      "outputs": []
    },
    {
      "cell_type": "code",
      "execution_count": 3,
      "metadata": {
        "id": "A1f0gRL5xigQ"
      },
      "outputs": [],
      "source": [
        "california = pd.read_csv(\"./drive/MyDrive/CS109 Project/state_level_data/California.csv\",parse_dates=['date'],index_col=['date'])\n",
        "new_york = pd.read_csv(\"./drive/MyDrive/CS109 Project/state_level_data/New York.csv\",parse_dates=['date'],index_col=['date'])\n",
        "ma = pd.read_csv(\"./drive/MyDrive/CS109 Project/state_level_data/Massachusetts.csv\",parse_dates=['date'],index_col=['date'])"
      ]
    },
    {
      "cell_type": "markdown",
      "source": [
        "## Data Cleaning"
      ],
      "metadata": {
        "id": "DHWS9uib1VUu"
      }
    },
    {
      "cell_type": "markdown",
      "source": [
        "Remove the final 5 rows because the missing cases don't make sense."
      ],
      "metadata": {
        "id": "kdYKoNOc2Bt3"
      }
    },
    {
      "cell_type": "code",
      "source": [
        "print(california.tail(10)) # remove the final 5 days since it's NA\n",
        "print(new_york.tail(10)) # remove the final 5 days since it's NA\n",
        "print(ma.tail(10)) # remove the final 5 days since it's NA"
      ],
      "metadata": {
        "colab": {
          "base_uri": "https://localhost:8080/"
        },
        "id": "emQJevYT1Q74",
        "outputId": "619076b1-f3b5-4733-a3b4-1dd01fe63a53"
      },
      "execution_count": 4,
      "outputs": [
        {
          "output_type": "stream",
          "name": "stdout",
          "text": [
            "            JHU_cases  JHU_deaths  JHU_hospitalizations  up2date  \\\n",
            "date                                                               \n",
            "2022-01-04    76786.0        94.0                1679.0      NaN   \n",
            "2022-01-05    39356.0       126.0                1768.0      NaN   \n",
            "2022-01-06    86590.0        32.0                1950.0      NaN   \n",
            "2022-01-07   108391.0       234.0                1950.0      NaN   \n",
            "2022-01-08    34364.0        17.0                1973.0      NaN   \n",
            "2022-01-09        NaN         NaN                   NaN      NaN   \n",
            "2022-01-10        NaN         NaN                   NaN      NaN   \n",
            "2022-01-11        NaN         NaN                   NaN      NaN   \n",
            "2022-01-12        NaN         NaN                   NaN      NaN   \n",
            "2022-01-13        NaN         NaN                   NaN      NaN   \n",
            "\n",
            "            gt_after covid vaccine  gt_side effects of vaccine  \\\n",
            "date                                                             \n",
            "2022-01-04              606.538018                   76.071071   \n",
            "2022-01-05              893.467782                  149.409817   \n",
            "2022-01-06             1421.963705                  225.272227   \n",
            "2022-01-07             1297.019835                  153.101406   \n",
            "2022-01-08              572.753638                  246.287607   \n",
            "2022-01-09             1036.271881                   79.980083   \n",
            "2022-01-10              501.666380                  359.532743   \n",
            "2022-01-11              737.261085                  221.918779   \n",
            "2022-01-12              978.821343                  151.092032   \n",
            "2022-01-13              984.362561                   75.973690   \n",
            "\n",
            "            gt_effects of covid vaccine       gt_covid  \\\n",
            "date                                                     \n",
            "2022-01-04                   227.642128  265601.963427   \n",
            "2022-01-05                    74.517966  279350.860227   \n",
            "2022-01-06                    74.902834  255423.889506   \n",
            "2022-01-07                   229.077425  247917.601107   \n",
            "2022-01-08                   163.780862  224845.931548   \n",
            "2022-01-09                     0.000000  191709.747309   \n",
            "2022-01-10                   215.179826  222023.793840   \n",
            "2022-01-11                    73.787815  224041.563172   \n",
            "2022-01-12                   150.713937  204037.539213   \n",
            "2022-01-13                     0.000000  189624.711109   \n",
            "\n",
            "            gt_how long does covid last  gt_anosmia  ...  \\\n",
            "date                                                 ...   \n",
            "2022-01-04                  1218.650070   76.101725  ...   \n",
            "2022-01-05                  1346.359843   74.735013  ...   \n",
            "2022-01-06                   977.393073  150.242004  ...   \n",
            "2022-01-07                  1762.854735    0.000000  ...   \n",
            "2022-01-08                   904.177084   82.128952  ...   \n",
            "2022-01-09                   880.874506    0.000000  ...   \n",
            "2022-01-10                   719.959308    0.000000  ...   \n",
            "2022-01-11                  1185.038030    0.000000  ...   \n",
            "2022-01-12                   453.839532    0.000000  ...   \n",
            "2022-01-13                  1141.021922    0.000000  ...   \n",
            "\n",
            "            neighbor_South Dakota  neighbor_Tennessee  neighbor_Texas  \\\n",
            "date                                                                    \n",
            "2022-01-04                 3047.0              9230.0         53543.0   \n",
            "2022-01-05                 2254.0                 0.0         47266.0   \n",
            "2022-01-06                 2183.0                 0.0         45375.0   \n",
            "2022-01-07                 1944.0                 0.0         52571.0   \n",
            "2022-01-08                    0.0                 0.0         49690.0   \n",
            "2022-01-09                    NaN                 NaN             NaN   \n",
            "2022-01-10                    NaN                 NaN             NaN   \n",
            "2022-01-11                    NaN                 NaN             NaN   \n",
            "2022-01-12                    NaN                 NaN             NaN   \n",
            "2022-01-13                    NaN                 NaN             NaN   \n",
            "\n",
            "            neighbor_Utah  neighbor_Vermont  neighbor_Virginia  \\\n",
            "date                                                             \n",
            "2022-01-04         4661.0            1731.0            17395.0   \n",
            "2022-01-05         7247.0             805.0            10728.0   \n",
            "2022-01-06         8913.0            2180.0            15840.0   \n",
            "2022-01-07         9469.0            1860.0            18309.0   \n",
            "2022-01-08            0.0            2619.0                0.0   \n",
            "2022-01-09            NaN               NaN                NaN   \n",
            "2022-01-10            NaN               NaN                NaN   \n",
            "2022-01-11            NaN               NaN                NaN   \n",
            "2022-01-12            NaN               NaN                NaN   \n",
            "2022-01-13            NaN               NaN                NaN   \n",
            "\n",
            "            neighbor_Washington  neighbor_West Virginia  neighbor_Wisconsin  \\\n",
            "date                                                                          \n",
            "2022-01-04               6192.0                  2353.0              9934.0   \n",
            "2022-01-05              10700.0                  2928.0             13760.0   \n",
            "2022-01-06              14944.0                  4947.0             14454.0   \n",
            "2022-01-07              17091.0                  4134.0             15562.0   \n",
            "2022-01-08                  0.0                  4184.0                 0.0   \n",
            "2022-01-09                  NaN                     NaN                 NaN   \n",
            "2022-01-10                  NaN                     NaN                 NaN   \n",
            "2022-01-11                  NaN                     NaN                 NaN   \n",
            "2022-01-12                  NaN                     NaN                 NaN   \n",
            "2022-01-13                  NaN                     NaN                 NaN   \n",
            "\n",
            "            neighbor_Wyoming  \n",
            "date                          \n",
            "2022-01-04             746.0  \n",
            "2022-01-05             709.0  \n",
            "2022-01-06             995.0  \n",
            "2022-01-07             764.0  \n",
            "2022-01-08               0.0  \n",
            "2022-01-09               NaN  \n",
            "2022-01-10               NaN  \n",
            "2022-01-11               NaN  \n",
            "2022-01-12               NaN  \n",
            "2022-01-13               NaN  \n",
            "\n",
            "[10 rows x 498 columns]\n",
            "            JHU_cases  JHU_deaths  JHU_hospitalizations  up2date  \\\n",
            "date                                                               \n",
            "2022-01-04    52247.0       105.0                1789.0      NaN   \n",
            "2022-01-05    76000.0       158.0                1810.0      NaN   \n",
            "2022-01-06    78267.0       143.0                1822.0      NaN   \n",
            "2022-01-07    85079.0       190.0                1821.0      NaN   \n",
            "2022-01-08    81388.0        85.0                1681.0      NaN   \n",
            "2022-01-09        NaN         NaN                   NaN      NaN   \n",
            "2022-01-10        NaN         NaN                   NaN      NaN   \n",
            "2022-01-11        NaN         NaN                   NaN      NaN   \n",
            "2022-01-12        NaN         NaN                   NaN      NaN   \n",
            "2022-01-13        NaN         NaN                   NaN      NaN   \n",
            "\n",
            "            gt_after covid vaccine  gt_side effects of vaccine  \\\n",
            "date                                                             \n",
            "2022-01-04             1581.301166                  131.829535   \n",
            "2022-01-05              510.041393                    0.000000   \n",
            "2022-01-06              920.825937                  460.603169   \n",
            "2022-01-07              608.729289                    0.000000   \n",
            "2022-01-08             1172.583083                  293.266872   \n",
            "2022-01-09             1544.561417                    0.000000   \n",
            "2022-01-10             1175.166324                  117.565179   \n",
            "2022-01-11              766.103236                  127.736620   \n",
            "2022-01-12              790.487196                   98.851719   \n",
            "2022-01-13              845.471330                  241.663029   \n",
            "\n",
            "            gt_effects of covid vaccine       gt_covid  \\\n",
            "date                                                     \n",
            "2022-01-04                   131.775834  225601.935643   \n",
            "2022-01-05                   204.017698  169249.705743   \n",
            "2022-01-06                   230.207772  158841.078908   \n",
            "2022-01-07                   121.746539  138387.934333   \n",
            "2022-01-08                     0.000000  132848.514301   \n",
            "2022-01-09                     0.000000  136647.438751   \n",
            "2022-01-10                   117.517290  131237.074798   \n",
            "2022-01-11                   127.684587  138644.647324   \n",
            "2022-01-12                    98.811452   93499.706225   \n",
            "2022-01-13                   241.564588  112362.571589   \n",
            "\n",
            "            gt_how long does covid last  gt_anosmia  ...  \\\n",
            "date                                                 ...   \n",
            "2022-01-04                   657.236283    0.000000  ...   \n",
            "2022-01-05                  1322.808426  102.008051  ...   \n",
            "2022-01-06                  1377.802550  230.205971  ...   \n",
            "2022-01-07                   607.214844    0.000000  ...   \n",
            "2022-01-08                  1023.457608    0.000000  ...   \n",
            "2022-01-09                   840.392037    0.000000  ...   \n",
            "2022-01-10                   586.121326    0.000000  ...   \n",
            "2022-01-11                   254.732421    0.000000  ...   \n",
            "2022-01-12                   492.825349   98.810679  ...   \n",
            "2022-01-13                   963.849027    0.000000  ...   \n",
            "\n",
            "            neighbor_South Dakota  neighbor_Tennessee  neighbor_Texas  \\\n",
            "date                                                                    \n",
            "2022-01-04                 3047.0              9230.0         53543.0   \n",
            "2022-01-05                 2254.0                 0.0         47266.0   \n",
            "2022-01-06                 2183.0                 0.0         45375.0   \n",
            "2022-01-07                 1944.0                 0.0         52571.0   \n",
            "2022-01-08                    0.0                 0.0         49690.0   \n",
            "2022-01-09                    NaN                 NaN             NaN   \n",
            "2022-01-10                    NaN                 NaN             NaN   \n",
            "2022-01-11                    NaN                 NaN             NaN   \n",
            "2022-01-12                    NaN                 NaN             NaN   \n",
            "2022-01-13                    NaN                 NaN             NaN   \n",
            "\n",
            "            neighbor_Utah  neighbor_Vermont  neighbor_Virginia  \\\n",
            "date                                                             \n",
            "2022-01-04         4661.0            1731.0            17395.0   \n",
            "2022-01-05         7247.0             805.0            10728.0   \n",
            "2022-01-06         8913.0            2180.0            15840.0   \n",
            "2022-01-07         9469.0            1860.0            18309.0   \n",
            "2022-01-08            0.0            2619.0                0.0   \n",
            "2022-01-09            NaN               NaN                NaN   \n",
            "2022-01-10            NaN               NaN                NaN   \n",
            "2022-01-11            NaN               NaN                NaN   \n",
            "2022-01-12            NaN               NaN                NaN   \n",
            "2022-01-13            NaN               NaN                NaN   \n",
            "\n",
            "            neighbor_Washington  neighbor_West Virginia  neighbor_Wisconsin  \\\n",
            "date                                                                          \n",
            "2022-01-04               6192.0                  2353.0              9934.0   \n",
            "2022-01-05              10700.0                  2928.0             13760.0   \n",
            "2022-01-06              14944.0                  4947.0             14454.0   \n",
            "2022-01-07              17091.0                  4134.0             15562.0   \n",
            "2022-01-08                  0.0                  4184.0                 0.0   \n",
            "2022-01-09                  NaN                     NaN                 NaN   \n",
            "2022-01-10                  NaN                     NaN                 NaN   \n",
            "2022-01-11                  NaN                     NaN                 NaN   \n",
            "2022-01-12                  NaN                     NaN                 NaN   \n",
            "2022-01-13                  NaN                     NaN                 NaN   \n",
            "\n",
            "            neighbor_Wyoming  \n",
            "date                          \n",
            "2022-01-04             746.0  \n",
            "2022-01-05             709.0  \n",
            "2022-01-06             995.0  \n",
            "2022-01-07             764.0  \n",
            "2022-01-08               0.0  \n",
            "2022-01-09               NaN  \n",
            "2022-01-10               NaN  \n",
            "2022-01-11               NaN  \n",
            "2022-01-12               NaN  \n",
            "2022-01-13               NaN  \n",
            "\n",
            "[10 rows x 498 columns]\n",
            "            JHU_cases  JHU_deaths  JHU_hospitalizations  up2date  \\\n",
            "date                                                               \n",
            "2022-01-04    18845.0        95.0                 387.0      NaN   \n",
            "2022-01-05    30805.0        54.0                 404.0      NaN   \n",
            "2022-01-06    27411.0        46.0                 415.0      NaN   \n",
            "2022-01-07    29163.0        58.0                 415.0      NaN   \n",
            "2022-01-08        0.0         0.0                 374.0      NaN   \n",
            "2022-01-09        NaN         NaN                   NaN      NaN   \n",
            "2022-01-10        NaN         NaN                   NaN      NaN   \n",
            "2022-01-11        NaN         NaN                   NaN      NaN   \n",
            "2022-01-12        NaN         NaN                   NaN      NaN   \n",
            "2022-01-13        NaN         NaN                   NaN      NaN   \n",
            "\n",
            "            gt_after covid vaccine  gt_side effects of vaccine  \\\n",
            "date                                                             \n",
            "2022-01-04             1937.449656                    0.000000   \n",
            "2022-01-05              769.319435                    0.000000   \n",
            "2022-01-06             1539.434075                    0.000000   \n",
            "2022-01-07              392.985324                  392.823030   \n",
            "2022-01-08             1716.128865                    0.000000   \n",
            "2022-01-09             1219.735432                    0.000000   \n",
            "2022-01-10             1123.009909                  748.364087   \n",
            "2022-01-11              376.241450                    0.000000   \n",
            "2022-01-12             1167.021276                  388.846441   \n",
            "2022-01-13             1597.981741                    0.000000   \n",
            "\n",
            "            gt_effects of covid vaccine       gt_covid  \\\n",
            "date                                                     \n",
            "2022-01-04                     0.000000  316040.458308   \n",
            "2022-01-05                   387.071265  279639.120596   \n",
            "2022-01-06                     0.000000  255637.932912   \n",
            "2022-01-07                   395.449067  210159.476078   \n",
            "2022-01-08                     0.000000  201664.875490   \n",
            "2022-01-09                     0.000000  185037.155838   \n",
            "2022-01-10                   376.683465  204287.244747   \n",
            "2022-01-11                     0.000000  195959.664432   \n",
            "2022-01-12                   391.445894  199896.679345   \n",
            "2022-01-13                     0.000000  169082.675205   \n",
            "\n",
            "            gt_how long does covid last  gt_anosmia  ...  \\\n",
            "date                                                 ...   \n",
            "2022-01-04                  1162.954522    0.000000  ...   \n",
            "2022-01-05                   769.640227    0.000000  ...   \n",
            "2022-01-06                  2695.132985  384.060527  ...   \n",
            "2022-01-07                  1965.745960    0.000000  ...   \n",
            "2022-01-08                   858.422230    0.000000  ...   \n",
            "2022-01-09                   813.496026    0.000000  ...   \n",
            "2022-01-10                     0.000000    0.000000  ...   \n",
            "2022-01-11                  1129.195006    0.000000  ...   \n",
            "2022-01-12                  1945.846504    0.000000  ...   \n",
            "2022-01-13                  1598.648070    0.000000  ...   \n",
            "\n",
            "            neighbor_South Dakota  neighbor_Tennessee  neighbor_Texas  \\\n",
            "date                                                                    \n",
            "2022-01-04                 3047.0              9230.0         53543.0   \n",
            "2022-01-05                 2254.0                 0.0         47266.0   \n",
            "2022-01-06                 2183.0                 0.0         45375.0   \n",
            "2022-01-07                 1944.0                 0.0         52571.0   \n",
            "2022-01-08                    0.0                 0.0         49690.0   \n",
            "2022-01-09                    NaN                 NaN             NaN   \n",
            "2022-01-10                    NaN                 NaN             NaN   \n",
            "2022-01-11                    NaN                 NaN             NaN   \n",
            "2022-01-12                    NaN                 NaN             NaN   \n",
            "2022-01-13                    NaN                 NaN             NaN   \n",
            "\n",
            "            neighbor_Utah  neighbor_Vermont  neighbor_Virginia  \\\n",
            "date                                                             \n",
            "2022-01-04         4661.0            1731.0            17395.0   \n",
            "2022-01-05         7247.0             805.0            10728.0   \n",
            "2022-01-06         8913.0            2180.0            15840.0   \n",
            "2022-01-07         9469.0            1860.0            18309.0   \n",
            "2022-01-08            0.0            2619.0                0.0   \n",
            "2022-01-09            NaN               NaN                NaN   \n",
            "2022-01-10            NaN               NaN                NaN   \n",
            "2022-01-11            NaN               NaN                NaN   \n",
            "2022-01-12            NaN               NaN                NaN   \n",
            "2022-01-13            NaN               NaN                NaN   \n",
            "\n",
            "            neighbor_Washington  neighbor_West Virginia  neighbor_Wisconsin  \\\n",
            "date                                                                          \n",
            "2022-01-04               6192.0                  2353.0              9934.0   \n",
            "2022-01-05              10700.0                  2928.0             13760.0   \n",
            "2022-01-06              14944.0                  4947.0             14454.0   \n",
            "2022-01-07              17091.0                  4134.0             15562.0   \n",
            "2022-01-08                  0.0                  4184.0                 0.0   \n",
            "2022-01-09                  NaN                     NaN                 NaN   \n",
            "2022-01-10                  NaN                     NaN                 NaN   \n",
            "2022-01-11                  NaN                     NaN                 NaN   \n",
            "2022-01-12                  NaN                     NaN                 NaN   \n",
            "2022-01-13                  NaN                     NaN                 NaN   \n",
            "\n",
            "            neighbor_Wyoming  \n",
            "date                          \n",
            "2022-01-04             746.0  \n",
            "2022-01-05             709.0  \n",
            "2022-01-06             995.0  \n",
            "2022-01-07             764.0  \n",
            "2022-01-08               0.0  \n",
            "2022-01-09               NaN  \n",
            "2022-01-10               NaN  \n",
            "2022-01-11               NaN  \n",
            "2022-01-12               NaN  \n",
            "2022-01-13               NaN  \n",
            "\n",
            "[10 rows x 498 columns]\n"
          ]
        }
      ]
    },
    {
      "cell_type": "code",
      "source": [
        "california = california.iloc[:-5, :]\n",
        "new_york = new_york.iloc[:-5, :]\n",
        "ma = ma.iloc[:-5, :]"
      ],
      "metadata": {
        "id": "Y9V4_lhw1aG5"
      },
      "execution_count": 5,
      "outputs": []
    },
    {
      "cell_type": "markdown",
      "source": [
        "Fill missing cases with 0 and flip the sign of negative cases."
      ],
      "metadata": {
        "id": "reO4lmA22iI1"
      }
    },
    {
      "cell_type": "code",
      "source": [
        "for state in [california, new_york, ma]:\n",
        "  state['JHU_cases']=state['JHU_cases'].fillna(0) # fill missing values with 0\n",
        "  print(state['JHU_cases'][state['JHU_cases'] < 0])"
      ],
      "metadata": {
        "colab": {
          "base_uri": "https://localhost:8080/"
        },
        "id": "tQ42R_uL2cGp",
        "outputId": "a95874a0-ba92-4087-b4fc-a9437412f81c"
      },
      "execution_count": 6,
      "outputs": [
        {
          "output_type": "stream",
          "name": "stdout",
          "text": [
            "date\n",
            "2020-03-29   -2019.0\n",
            "2021-06-29   -3935.0\n",
            "Name: JHU_cases, dtype: float64\n",
            "Series([], Name: JHU_cases, dtype: float64)\n",
            "date\n",
            "2020-09-03   -280.0\n",
            "Name: JHU_cases, dtype: float64\n"
          ]
        },
        {
          "output_type": "stream",
          "name": "stderr",
          "text": [
            "/usr/local/lib/python3.7/dist-packages/ipykernel_launcher.py:2: SettingWithCopyWarning: \n",
            "A value is trying to be set on a copy of a slice from a DataFrame.\n",
            "Try using .loc[row_indexer,col_indexer] = value instead\n",
            "\n",
            "See the caveats in the documentation: https://pandas.pydata.org/pandas-docs/stable/user_guide/indexing.html#returning-a-view-versus-a-copy\n",
            "  \n"
          ]
        }
      ]
    },
    {
      "cell_type": "code",
      "source": [
        "california['JHU_cases'][california['JHU_cases'] == -2019.0] = 2019.0\n",
        "california['JHU_cases'][california['JHU_cases'] == -3935.0] = 3935.0\n",
        "ma['JHU_cases'][ma['JHU_cases'] == -280.0] = 280"
      ],
      "metadata": {
        "id": "0VbHdTrV2g3I"
      },
      "execution_count": 7,
      "outputs": []
    },
    {
      "cell_type": "code",
      "source": [
        "fig,axs = plt.subplots(3,1, figsize = (12,15))\n",
        "axs[0].plot(california.index.values, california['JHU_cases'])\n",
        "axs[1].plot(new_york.index.values, new_york['JHU_cases'])\n",
        "axs[2].plot(ma.index.values, ma['JHU_cases'])\n",
        "for i in range(3):\n",
        "  axs[i].set_xlabel('Time')\n",
        "axs[0].set_ylabel('Cases')\n",
        "axs[1].set_ylabel('Cases')\n",
        "axs[2].set_ylabel('Cases')\n",
        "axs[0].set_title('COVID-19 cases over time in California')\n",
        "axs[1].set_title('COVID-19 cases over time in New York')\n",
        "axs[2].set_title('COVID-19 cases over time in Massachusetts')\n"
      ],
      "metadata": {
        "colab": {
          "base_uri": "https://localhost:8080/",
          "height": 910
        },
        "id": "NESDPCIE2S3j",
        "outputId": "ef53c336-ee3f-4e05-9ada-80d12f48d1fb"
      },
      "execution_count": 8,
      "outputs": [
        {
          "output_type": "execute_result",
          "data": {
            "text/plain": [
              "Text(0.5, 1.0, 'COVID-19 cases over time in Massachusetts')"
            ]
          },
          "metadata": {},
          "execution_count": 8
        },
        {
          "output_type": "display_data",
          "data": {
            "text/plain": [
              "<Figure size 864x1080 with 3 Axes>"
            ],
            "image/png": "[encoded data removed]"
          },
          "metadata": {
            "needs_background": "light"
          }
        }
      ]
    },
    {
      "cell_type": "markdown",
      "source": [
        "We observe a lot of noise so we take the rolling average with a window of 5 to smooth the data."
      ],
      "metadata": {
        "id": "TiJ6JFzI3e0W"
      }
    },
    {
      "cell_type": "code",
      "source": [
        "#separate feature and outcome tables\n",
        "cali_features=california.iloc[:,3:]\n",
        "cali_outcomes=california.iloc[:,0]\n",
        "ny_features=new_york.iloc[:,3:]\n",
        "ny_outcomes=new_york.iloc[:,0]\n",
        "ma_features=ma.iloc[:,3:]\n",
        "ma_outcomes=ma.iloc[:,0]\n",
        "\n",
        "cali_features.shape, cali_outcomes.shape"
      ],
      "metadata": {
        "colab": {
          "base_uri": "https://localhost:8080/"
        },
        "id": "HRQ1JxcP4WiR",
        "outputId": "510ed9d8-5e8c-4f8b-8735-d4917eb7c5ac"
      },
      "execution_count": 9,
      "outputs": [
        {
          "output_type": "execute_result",
          "data": {
            "text/plain": [
              "((739, 495), (739,))"
            ]
          },
          "metadata": {},
          "execution_count": 9
        }
      ]
    },
    {
      "cell_type": "code",
      "source": [
        "# Window == number of days in rolling window over which to calculate mean\n",
        "window = 5\n",
        "cali_outcomes = cali_outcomes.transform(lambda x: x.rolling(window).mean())\n",
        "ny_outcomes = ny_outcomes.transform(lambda x: x.rolling(window).mean())\n",
        "ma_outcomes = ma_outcomes.transform(lambda x: x.rolling(window).mean())\n",
        "\n",
        "cali_features.shape, cali_outcomes.shape"
      ],
      "metadata": {
        "colab": {
          "base_uri": "https://localhost:8080/"
        },
        "id": "sdOKJzV84hUO",
        "outputId": "17a259c7-a439-4b65-c0d3-c49dc07913ae"
      },
      "execution_count": 10,
      "outputs": [
        {
          "output_type": "execute_result",
          "data": {
            "text/plain": [
              "((739, 495), (739,))"
            ]
          },
          "metadata": {},
          "execution_count": 10
        }
      ]
    },
    {
      "cell_type": "markdown",
      "source": [
        "Fill the NA at the beginning with 0"
      ],
      "metadata": {
        "id": "N1NpI9qf5Qs_"
      }
    },
    {
      "cell_type": "code",
      "source": [
        "cali_outcomes = cali_outcomes.fillna(0)\n",
        "ny_outcomes = ny_outcomes.fillna(0)\n",
        "ma_outcomes = ma_outcomes.fillna(0)"
      ],
      "metadata": {
        "id": "LpJlKVdm4vjP"
      },
      "execution_count": 11,
      "outputs": []
    },
    {
      "cell_type": "code",
      "source": [
        "fig,axs = plt.subplots(3,1, figsize = (12,15))\n",
        "axs[0].plot(california.index.values, cali_outcomes)\n",
        "axs[1].plot(new_york.index.values, ny_outcomes)\n",
        "axs[2].plot(ma.index.values, ma_outcomes)\n",
        "for i in range(3):\n",
        "  axs[i].set_xlabel('Time')\n",
        "axs[0].set_ylabel('Cases')\n",
        "axs[1].set_ylabel('Cases')\n",
        "axs[2].set_ylabel('Cases')\n",
        "axs[0].set_title('COVID-19 cases over time in California')\n",
        "axs[1].set_title('COVID-19 cases over time in New York')\n",
        "axs[2].set_title('COVID-19 cases over time in Massachusetts')\n"
      ],
      "metadata": {
        "colab": {
          "base_uri": "https://localhost:8080/",
          "height": 910
        },
        "id": "JtFp6yyy5Ejq",
        "outputId": "b86f226a-aefa-40cf-a78d-82af1799be8e"
      },
      "execution_count": 12,
      "outputs": [
        {
          "output_type": "execute_result",
          "data": {
            "text/plain": [
              "Text(0.5, 1.0, 'COVID-19 cases over time in Massachusetts')"
            ]
          },
          "metadata": {},
          "execution_count": 12
        },
        {
          "output_type": "display_data",
          "data": {
            "text/plain": [
              "<Figure size 864x1080 with 3 Axes>"
            ],
            "image/png": "[encoded data removed]"
          },
          "metadata": {
            "needs_background": "light"
          }
        }
      ]
    },
    {
      "cell_type": "markdown",
      "source": [
        "Drop Google Trend features with too many NAs."
      ],
      "metadata": {
        "id": "hHi7zebw5rj5"
      }
    },
    {
      "cell_type": "code",
      "source": [
        "missing_ratio = cali_features.isna().sum(axis=0) / cali_features.shape[0]\n",
        "print(missing_ratio.reset_index().sort_values(by = 0, ascending = False))\n",
        "cali_features_selected = cali_features[cali_features.columns[missing_ratio < 0.2]] \n",
        "cali_features_selected.shape"
      ],
      "metadata": {
        "colab": {
          "base_uri": "https://localhost:8080/"
        },
        "id": "B4WmIz756rYw",
        "outputId": "cd29cd7c-4588-46e8-f555-c2094735c117"
      },
      "execution_count": 13,
      "outputs": [
        {
          "output_type": "stream",
          "name": "stdout",
          "text": [
            "                           index         0\n",
            "204           gt2_Hepatotoxicity  0.504736\n",
            "386               gt2_Spasticity  0.504736\n",
            "30                   gt2_Ageusia  0.504736\n",
            "346                   gt2_Ptosis  0.504736\n",
            "32   gt2_Allergic conjunctivitis  0.504736\n",
            "..                           ...       ...\n",
            "20                 gt_nose bleed  0.000000\n",
            "21              gt_feeling tired  0.000000\n",
            "22              gt_joints aching  0.000000\n",
            "23                      gt_fever  0.000000\n",
            "18                gt_sars-cov-2   0.000000\n",
            "\n",
            "[495 rows x 2 columns]\n"
          ]
        },
        {
          "output_type": "execute_result",
          "data": {
            "text/plain": [
              "(739, 428)"
            ]
          },
          "metadata": {},
          "execution_count": 13
        }
      ]
    },
    {
      "cell_type": "code",
      "source": [
        "missing_ratio = ny_features.isna().sum(axis=0) / ny_features.shape[0]\n",
        "print(missing_ratio.reset_index().sort_values(by = 0, ascending = False))\n",
        "ny_features_selected = ny_features[ny_features.columns[missing_ratio < 0.2]] \n",
        "ny_features_selected.shape"
      ],
      "metadata": {
        "colab": {
          "base_uri": "https://localhost:8080/"
        },
        "id": "3AqcNNHp9ulV",
        "outputId": "b1d18a00-f77d-45f6-fadf-68d89a8e0aee"
      },
      "execution_count": 14,
      "outputs": [
        {
          "output_type": "stream",
          "name": "stdout",
          "text": [
            "                     index         0\n",
            "328    gt2_Photodermatitis  0.519621\n",
            "433    gt2_Viral pneumonia  0.507442\n",
            "204     gt2_Hepatotoxicity  0.504736\n",
            "371  gt2_Shallow breathing  0.504736\n",
            "30             gt2_Ageusia  0.504736\n",
            "..                     ...       ...\n",
            "20           gt_nose bleed  0.000000\n",
            "21        gt_feeling tired  0.000000\n",
            "22        gt_joints aching  0.000000\n",
            "23                gt_fever  0.000000\n",
            "18          gt_sars-cov-2   0.000000\n",
            "\n",
            "[495 rows x 2 columns]\n"
          ]
        },
        {
          "output_type": "execute_result",
          "data": {
            "text/plain": [
              "(739, 428)"
            ]
          },
          "metadata": {},
          "execution_count": 14
        }
      ]
    },
    {
      "cell_type": "code",
      "source": [
        "missing_ratio = ma_features.isna().sum(axis=0) / ma_features.shape[0]\n",
        "print(missing_ratio.reset_index().sort_values(by = 0, ascending = False))\n",
        "ma_features_selected = ma_features[ma_features.columns[missing_ratio < 0.2]] \n",
        "ma_features_selected.shape"
      ],
      "metadata": {
        "colab": {
          "base_uri": "https://localhost:8080/"
        },
        "id": "Q4cAf7Q090F6",
        "outputId": "18e03825-f165-4f47-ce75-a75c4d069356"
      },
      "execution_count": 15,
      "outputs": [
        {
          "output_type": "stream",
          "name": "stdout",
          "text": [
            "                           index         0\n",
            "328          gt2_Photodermatitis  0.695535\n",
            "433          gt2_Viral pneumonia  0.635995\n",
            "46                   gt2_Aphonia  0.519621\n",
            "32   gt2_Allergic conjunctivitis  0.515562\n",
            "117                 gt2_Crackles  0.514208\n",
            "..                           ...       ...\n",
            "20                 gt_nose bleed  0.000000\n",
            "21              gt_feeling tired  0.000000\n",
            "22              gt_joints aching  0.000000\n",
            "23                      gt_fever  0.000000\n",
            "18                gt_sars-cov-2   0.000000\n",
            "\n",
            "[495 rows x 2 columns]\n"
          ]
        },
        {
          "output_type": "execute_result",
          "data": {
            "text/plain": [
              "(739, 428)"
            ]
          },
          "metadata": {},
          "execution_count": 15
        }
      ]
    },
    {
      "cell_type": "markdown",
      "source": [
        "Remove neighbor case features\n"
      ],
      "metadata": {
        "id": "pFHDwWnZO32X"
      }
    },
    {
      "cell_type": "code",
      "source": [
        "gt_features = [col for col in cali_features_selected.columns if ('gt' in col or 'gt2' in col) and 'neighbor' not in col]\n",
        "cali_features_selected = cali_features_selected[gt_features]"
      ],
      "metadata": {
        "id": "lYTvSRy4O3Zn"
      },
      "execution_count": 16,
      "outputs": []
    },
    {
      "cell_type": "code",
      "source": [
        "gt_features = [col for col in ny_features_selected.columns if ('gt' in col or 'gt2' in col) and 'neighbor' not in col]\n",
        "ny_features_selected = ny_features_selected[gt_features]"
      ],
      "metadata": {
        "id": "Fq6HiNrhPEf9"
      },
      "execution_count": 17,
      "outputs": []
    },
    {
      "cell_type": "code",
      "source": [
        "gt_features = [col for col in ma_features_selected.columns if ('gt' in col or 'gt2' in col) and 'neighbor' not in col]\n",
        "ma_features_selected = ma_features_selected[gt_features]"
      ],
      "metadata": {
        "id": "dd-OrWqiPE1Q"
      },
      "execution_count": 18,
      "outputs": []
    },
    {
      "cell_type": "markdown",
      "source": [
        "Imput missing values with knn imputer"
      ],
      "metadata": {
        "id": "M3FXjxZqAIXe"
      }
    },
    {
      "cell_type": "code",
      "source": [
        "#imputation using KNN\n",
        "col_names=cali_features_selected.columns\n",
        "imputer = KNNImputer(n_neighbors=5, weights='uniform', metric='nan_euclidean')\n",
        "imputer.fit(cali_features_selected)\n",
        "imputed_data = imputer.transform(cali_features_selected)\n",
        "imputed_cali_gt = pd.DataFrame(imputed_data,columns=col_names)\n",
        "\n",
        "col_names=ny_features_selected.columns\n",
        "imputer.fit(ny_features_selected)\n",
        "imputed_data = imputer.transform(ny_features_selected)\n",
        "imputed_ny_gt = pd.DataFrame(imputed_data,columns=col_names)\n",
        "\n",
        "col_names=ma_features_selected.columns\n",
        "imputer.fit(ma_features_selected)\n",
        "imputed_data = imputer.transform(ma_features_selected)\n",
        "imputed_ma_gt = pd.DataFrame(imputed_data,columns=col_names)"
      ],
      "metadata": {
        "id": "zGX9w4zMAQcL"
      },
      "execution_count": 19,
      "outputs": []
    },
    {
      "cell_type": "markdown",
      "source": [
        "## Exploratory Data Analysis"
      ],
      "metadata": {
        "id": "molKxZHgAwaS"
      }
    },
    {
      "cell_type": "markdown",
      "source": [
        "### Pearson Correlation Coefficients"
      ],
      "metadata": {
        "id": "amUFmdIUUJRb"
      }
    },
    {
      "cell_type": "code",
      "source": [
        "# Pearson's correlation requires that each dataset be normally distributed\n",
        "from scipy.stats.stats import pearsonr\n",
        "from scipy.ndimage.interpolation import shift"
      ],
      "metadata": {
        "id": "GesO8_zMVYDU"
      },
      "execution_count": 20,
      "outputs": []
    },
    {
      "cell_type": "code",
      "source": [
        "\n",
        "corr_value = []\n",
        "p_value = []\n",
        "for i in range(len(imputed_cali_gt.columns)):\n",
        "  res = pearsonr(imputed_cali_gt.iloc[:,i], cali_outcomes)\n",
        "  corr_value.append(res[0])\n",
        "  p_value.append(res[1])\n",
        "\n",
        "res_tab = pd.DataFrame({\"features\" : imputed_cali_gt.columns, \n",
        "              \"corr\": corr_value,\n",
        "              'abs_corr': [abs(x) for x in corr_value],\n",
        "              \"p_value\": p_value})\n",
        "\n",
        "res_tab['relation'] = np.where(res_tab['corr'] > 0, 'positive', 'negative')\n",
        "res_tab = res_tab.sort_values(by='abs_corr', ascending = False)\n",
        "\n",
        "res_tab.head()"
      ],
      "metadata": {
        "colab": {
          "base_uri": "https://localhost:8080/",
          "height": 206
        },
        "id": "XU7mkLkrJWj7",
        "outputId": "bb7b7605-252a-4c01-89bc-9c702e24521b"
      },
      "execution_count": 21,
      "outputs": [
        {
          "output_type": "execute_result",
          "data": {
            "text/plain": [
              "                        features      corr  abs_corr        p_value  relation\n",
              "4    gt_how long does covid last  0.702711  0.702711  4.599268e-111  positive\n",
              "3                       gt_covid  0.700754  0.700754  3.385993e-110  positive\n",
              "11             gt_covid symptoms  0.679652  0.679652  2.818283e-101  positive\n",
              "197                gt2_Hypoxemia  0.646365  0.646365   1.228470e-88  positive\n",
              "9               gt_loss of smell  0.571850  0.571850   2.138678e-65  positive"
            ],
            "text/html": [
              "\n",
              "  <div id=\"df-47546fe2-fa03-49c6-a04a-30c6a9b4ae58\">\n",
              "    <div class=\"colab-df-container\">\n",
              "      <div>\n",
              "<style scoped>\n",
              "    .dataframe tbody tr th:only-of-type {\n",
              "        vertical-align: middle;\n",
              "    }\n",
              "\n",
              "    .dataframe tbody tr th {\n",
              "        vertical-align: top;\n",
              "    }\n",
              "\n",
              "    .dataframe thead th {\n",
              "        text-align: right;\n",
              "    }\n",
              "</style>\n",
              "<table border=\"1\" class=\"dataframe\">\n",
              "  <thead>\n",
              "    <tr style=\"text-align: right;\">\n",
              "      <th></th>\n",
              "      <th>features</th>\n",
              "      <th>corr</th>\n",
              "      <th>abs_corr</th>\n",
              "      <th>p_value</th>\n",
              "      <th>relation</th>\n",
              "    </tr>\n",
              "  </thead>\n",
              "  <tbody>\n",
              "    <tr>\n",
              "      <th>4</th>\n",
              "      <td>gt_how long does covid last</td>\n",
              "      <td>0.702711</td>\n",
              "      <td>0.702711</td>\n",
              "      <td>4.599268e-111</td>\n",
              "      <td>positive</td>\n",
              "    </tr>\n",
              "    <tr>\n",
              "      <th>3</th>\n",
              "      <td>gt_covid</td>\n",
              "      <td>0.700754</td>\n",
              "      <td>0.700754</td>\n",
              "      <td>3.385993e-110</td>\n",
              "      <td>positive</td>\n",
              "    </tr>\n",
              "    <tr>\n",
              "      <th>11</th>\n",
              "      <td>gt_covid symptoms</td>\n",
              "      <td>0.679652</td>\n",
              "      <td>0.679652</td>\n",
              "      <td>2.818283e-101</td>\n",
              "      <td>positive</td>\n",
              "    </tr>\n",
              "    <tr>\n",
              "      <th>197</th>\n",
              "      <td>gt2_Hypoxemia</td>\n",
              "      <td>0.646365</td>\n",
              "      <td>0.646365</td>\n",
              "      <td>1.228470e-88</td>\n",
              "      <td>positive</td>\n",
              "    </tr>\n",
              "    <tr>\n",
              "      <th>9</th>\n",
              "      <td>gt_loss of smell</td>\n",
              "      <td>0.571850</td>\n",
              "      <td>0.571850</td>\n",
              "      <td>2.138678e-65</td>\n",
              "      <td>positive</td>\n",
              "    </tr>\n",
              "  </tbody>\n",
              "</table>\n",
              "</div>\n",
              "      <button class=\"colab-df-convert\" onclick=\"convertToInteractive('df-47546fe2-fa03-49c6-a04a-30c6a9b4ae58')\"\n",
              "              title=\"Convert this dataframe to an interactive table.\"\n",
              "              style=\"display:none;\">\n",
              "        \n",
              "  <svg xmlns=\"http://www.w3.org/2000/svg\" height=\"24px\"viewBox=\"0 0 24 24\"\n",
              "       width=\"24px\">\n",
              "    <path d=\"M0 0h24v24H0V0z\" fill=\"none\"/>\n",
              "    <path d=\"M18.56 5.44l.94 2.06.94-2.06 2.06-.94-2.06-.94-.94-2.06-.94 2.06-2.06.94zm-11 1L8.5 8.5l.94-2.06 2.06-.94-2.06-.94L8.5 2.5l-.94 2.06-2.06.94zm10 10l.94 2.06.94-2.06 2.06-.94-2.06-.94-.94-2.06-.94 2.06-2.06.94z\"/><path d=\"M17.41 7.96l-1.37-1.37c-.4-.4-.92-.59-1.43-.59-.52 0-1.04.2-1.43.59L10.3 9.45l-7.72 7.72c-.78.78-.78 2.05 0 2.83L4 21.41c.39.39.9.59 1.41.59.51 0 1.02-.2 1.41-.59l7.78-7.78 2.81-2.81c.8-.78.8-2.07 0-2.86zM5.41 20L4 18.59l7.72-7.72 1.47 1.35L5.41 20z\"/>\n",
              "  </svg>\n",
              "      </button>\n",
              "      \n",
              "  <style>\n",
              "    .colab-df-container {\n",
              "      display:flex;\n",
              "      flex-wrap:wrap;\n",
              "      gap: 12px;\n",
              "    }\n",
              "\n",
              "    .colab-df-convert {\n",
              "      background-color: #E8F0FE;\n",
              "      border: none;\n",
              "      border-radius: 50%;\n",
              "      cursor: pointer;\n",
              "      display: none;\n",
              "      fill: #1967D2;\n",
              "      height: 32px;\n",
              "      padding: 0 0 0 0;\n",
              "      width: 32px;\n",
              "    }\n",
              "\n",
              "    .colab-df-convert:hover {\n",
              "      background-color: #E2EBFA;\n",
              "      box-shadow: 0px 1px 2px rgba(60, 64, 67, 0.3), 0px 1px 3px 1px rgba(60, 64, 67, 0.15);\n",
              "      fill: #174EA6;\n",
              "    }\n",
              "\n",
              "    [theme=dark] .colab-df-convert {\n",
              "      background-color: #3B4455;\n",
              "      fill: #D2E3FC;\n",
              "    }\n",
              "\n",
              "    [theme=dark] .colab-df-convert:hover {\n",
              "      background-color: #434B5C;\n",
              "      box-shadow: 0px 1px 3px 1px rgba(0, 0, 0, 0.15);\n",
              "      filter: drop-shadow(0px 1px 2px rgba(0, 0, 0, 0.3));\n",
              "      fill: #FFFFFF;\n",
              "    }\n",
              "  </style>\n",
              "\n",
              "      <script>\n",
              "        const buttonEl =\n",
              "          document.querySelector('#df-47546fe2-fa03-49c6-a04a-30c6a9b4ae58 button.colab-df-convert');\n",
              "        buttonEl.style.display =\n",
              "          google.colab.kernel.accessAllowed ? 'block' : 'none';\n",
              "\n",
              "        async function convertToInteractive(key) {\n",
              "          const element = document.querySelector('#df-47546fe2-fa03-49c6-a04a-30c6a9b4ae58');\n",
              "          const dataTable =\n",
              "            await google.colab.kernel.invokeFunction('convertToInteractive',\n",
              "                                                     [key], {});\n",
              "          if (!dataTable) return;\n",
              "\n",
              "          const docLinkHtml = 'Like what you see? Visit the ' +\n",
              "            '<a target=\"_blank\" href=https://colab.research.google.com/notebooks/data_table.ipynb>data table notebook</a>'\n",
              "            + ' to learn more about interactive tables.';\n",
              "          element.innerHTML = '';\n",
              "          dataTable['output_type'] = 'display_data';\n",
              "          await google.colab.output.renderOutput(dataTable, element);\n",
              "          const docLink = document.createElement('div');\n",
              "          docLink.innerHTML = docLinkHtml;\n",
              "          element.appendChild(docLink);\n",
              "        }\n",
              "      </script>\n",
              "    </div>\n",
              "  </div>\n",
              "  "
            ]
          },
          "metadata": {},
          "execution_count": 21
        }
      ]
    },
    {
      "cell_type": "code",
      "source": [
        "def pcorrcoef(feature, outcome, shift_by):\n",
        "  corr_value = []\n",
        "  p_value = []\n",
        "\n",
        "  if shift_by != 0:\n",
        "    shifted_data = shift(outcome.reset_index()['JHU_cases'].values, shift_by, cval = 0)\n",
        "    outcome = shifted_data\n",
        "  \n",
        "  for i in range(len(feature.columns)):\n",
        "    res = pearsonr(feature.iloc[:,i], outcome)\n",
        "    corr_value.append(res[0])\n",
        "    p_value.append(res[1])\n",
        "\n",
        "  res_tab = pd.DataFrame({f\"features_{shift_by}\" : feature.columns, \n",
        "                f\"corr_{shift_by}\": corr_value,\n",
        "                f\"abs_corr_{shift_by}\": [abs(x) for x in corr_value],\n",
        "                f\"p_value_{shift_by}\": p_value})\n",
        "\n",
        "  res_tab[f\"relation_{shift_by}\"] = np.where(res_tab[f\"corr_{shift_by}\"] > 0, 'positive', 'negative')\n",
        "  # res_tab = res_tab.sort_values(by=f\"abs_corr_{shift_by}\", ascending = False)\n",
        "  return res_tab"
      ],
      "metadata": {
        "id": "1iQvkHmqVLXn"
      },
      "execution_count": 22,
      "outputs": []
    },
    {
      "cell_type": "code",
      "source": [
        "res_tab_0 = pcorrcoef(feature = imputed_cali_gt, outcome=cali_outcomes, shift_by=0)\n",
        "res_tab_0 = res_tab_0.sort_values(by=\"abs_corr_0\", ascending = False)\n",
        "res_tab_0"
      ],
      "metadata": {
        "colab": {
          "base_uri": "https://localhost:8080/",
          "height": 424
        },
        "id": "rVah3KpRYtij",
        "outputId": "8d2a2d98-6cd6-415f-8c3b-f3df41f829fe"
      },
      "execution_count": 23,
      "outputs": [
        {
          "output_type": "execute_result",
          "data": {
            "text/plain": [
              "                          features_0    corr_0  abs_corr_0      p_value_0  \\\n",
              "4        gt_how long does covid last  0.702711    0.702711  4.599268e-111   \n",
              "3                           gt_covid  0.700754    0.700754  3.385993e-110   \n",
              "11                 gt_covid symptoms  0.679652    0.679652  2.818283e-101   \n",
              "197                    gt2_Hypoxemia  0.646365    0.646365   1.228470e-88   \n",
              "9                   gt_loss of smell  0.571850    0.571850   2.138678e-65   \n",
              "..                               ...       ...         ...            ...   \n",
              "258                       gt2_Nodule -0.000734    0.000734   9.841109e-01   \n",
              "54              gt2_Balance disorder  0.000410    0.000410   9.911241e-01   \n",
              "275  gt2_Pelvic inflammatory disease -0.000380    0.000380   9.917671e-01   \n",
              "80                   gt2_Canker sore  0.000376    0.000376   9.918601e-01   \n",
              "24                gt2_Abdominal pain -0.000297    0.000297   9.935779e-01   \n",
              "\n",
              "    relation_0  \n",
              "4     positive  \n",
              "3     positive  \n",
              "11    positive  \n",
              "197   positive  \n",
              "9     positive  \n",
              "..         ...  \n",
              "258   negative  \n",
              "54    positive  \n",
              "275   negative  \n",
              "80    positive  \n",
              "24    negative  \n",
              "\n",
              "[379 rows x 5 columns]"
            ],
            "text/html": [
              "\n",
              "  <div id=\"df-db488e3d-a2f3-4a4b-bb6b-7ad1d49de5fe\">\n",
              "    <div class=\"colab-df-container\">\n",
              "      <div>\n",
              "<style scoped>\n",
              "    .dataframe tbody tr th:only-of-type {\n",
              "        vertical-align: middle;\n",
              "    }\n",
              "\n",
              "    .dataframe tbody tr th {\n",
              "        vertical-align: top;\n",
              "    }\n",
              "\n",
              "    .dataframe thead th {\n",
              "        text-align: right;\n",
              "    }\n",
              "</style>\n",
              "<table border=\"1\" class=\"dataframe\">\n",
              "  <thead>\n",
              "    <tr style=\"text-align: right;\">\n",
              "      <th></th>\n",
              "      <th>features_0</th>\n",
              "      <th>corr_0</th>\n",
              "      <th>abs_corr_0</th>\n",
              "      <th>p_value_0</th>\n",
              "      <th>relation_0</th>\n",
              "    </tr>\n",
              "  </thead>\n",
              "  <tbody>\n",
              "    <tr>\n",
              "      <th>4</th>\n",
              "      <td>gt_how long does covid last</td>\n",
              "      <td>0.702711</td>\n",
              "      <td>0.702711</td>\n",
              "      <td>4.599268e-111</td>\n",
              "      <td>positive</td>\n",
              "    </tr>\n",
              "    <tr>\n",
              "      <th>3</th>\n",
              "      <td>gt_covid</td>\n",
              "      <td>0.700754</td>\n",
              "      <td>0.700754</td>\n",
              "      <td>3.385993e-110</td>\n",
              "      <td>positive</td>\n",
              "    </tr>\n",
              "    <tr>\n",
              "      <th>11</th>\n",
              "      <td>gt_covid symptoms</td>\n",
              "      <td>0.679652</td>\n",
              "      <td>0.679652</td>\n",
              "      <td>2.818283e-101</td>\n",
              "      <td>positive</td>\n",
              "    </tr>\n",
              "    <tr>\n",
              "      <th>197</th>\n",
              "      <td>gt2_Hypoxemia</td>\n",
              "      <td>0.646365</td>\n",
              "      <td>0.646365</td>\n",
              "      <td>1.228470e-88</td>\n",
              "      <td>positive</td>\n",
              "    </tr>\n",
              "    <tr>\n",
              "      <th>9</th>\n",
              "      <td>gt_loss of smell</td>\n",
              "      <td>0.571850</td>\n",
              "      <td>0.571850</td>\n",
              "      <td>2.138678e-65</td>\n",
              "      <td>positive</td>\n",
              "    </tr>\n",
              "    <tr>\n",
              "      <th>...</th>\n",
              "      <td>...</td>\n",
              "      <td>...</td>\n",
              "      <td>...</td>\n",
              "      <td>...</td>\n",
              "      <td>...</td>\n",
              "    </tr>\n",
              "    <tr>\n",
              "      <th>258</th>\n",
              "      <td>gt2_Nodule</td>\n",
              "      <td>-0.000734</td>\n",
              "      <td>0.000734</td>\n",
              "      <td>9.841109e-01</td>\n",
              "      <td>negative</td>\n",
              "    </tr>\n",
              "    <tr>\n",
              "      <th>54</th>\n",
              "      <td>gt2_Balance disorder</td>\n",
              "      <td>0.000410</td>\n",
              "      <td>0.000410</td>\n",
              "      <td>9.911241e-01</td>\n",
              "      <td>positive</td>\n",
              "    </tr>\n",
              "    <tr>\n",
              "      <th>275</th>\n",
              "      <td>gt2_Pelvic inflammatory disease</td>\n",
              "      <td>-0.000380</td>\n",
              "      <td>0.000380</td>\n",
              "      <td>9.917671e-01</td>\n",
              "      <td>negative</td>\n",
              "    </tr>\n",
              "    <tr>\n",
              "      <th>80</th>\n",
              "      <td>gt2_Canker sore</td>\n",
              "      <td>0.000376</td>\n",
              "      <td>0.000376</td>\n",
              "      <td>9.918601e-01</td>\n",
              "      <td>positive</td>\n",
              "    </tr>\n",
              "    <tr>\n",
              "      <th>24</th>\n",
              "      <td>gt2_Abdominal pain</td>\n",
              "      <td>-0.000297</td>\n",
              "      <td>0.000297</td>\n",
              "      <td>9.935779e-01</td>\n",
              "      <td>negative</td>\n",
              "    </tr>\n",
              "  </tbody>\n",
              "</table>\n",
              "<p>379 rows × 5 columns</p>\n",
              "</div>\n",
              "      <button class=\"colab-df-convert\" onclick=\"convertToInteractive('df-db488e3d-a2f3-4a4b-bb6b-7ad1d49de5fe')\"\n",
              "              title=\"Convert this dataframe to an interactive table.\"\n",
              "              style=\"display:none;\">\n",
              "        \n",
              "  <svg xmlns=\"http://www.w3.org/2000/svg\" height=\"24px\"viewBox=\"0 0 24 24\"\n",
              "       width=\"24px\">\n",
              "    <path d=\"M0 0h24v24H0V0z\" fill=\"none\"/>\n",
              "    <path d=\"M18.56 5.44l.94 2.06.94-2.06 2.06-.94-2.06-.94-.94-2.06-.94 2.06-2.06.94zm-11 1L8.5 8.5l.94-2.06 2.06-.94-2.06-.94L8.5 2.5l-.94 2.06-2.06.94zm10 10l.94 2.06.94-2.06 2.06-.94-2.06-.94-.94-2.06-.94 2.06-2.06.94z\"/><path d=\"M17.41 7.96l-1.37-1.37c-.4-.4-.92-.59-1.43-.59-.52 0-1.04.2-1.43.59L10.3 9.45l-7.72 7.72c-.78.78-.78 2.05 0 2.83L4 21.41c.39.39.9.59 1.41.59.51 0 1.02-.2 1.41-.59l7.78-7.78 2.81-2.81c.8-.78.8-2.07 0-2.86zM5.41 20L4 18.59l7.72-7.72 1.47 1.35L5.41 20z\"/>\n",
              "  </svg>\n",
              "      </button>\n",
              "      \n",
              "  <style>\n",
              "    .colab-df-container {\n",
              "      display:flex;\n",
              "      flex-wrap:wrap;\n",
              "      gap: 12px;\n",
              "    }\n",
              "\n",
              "    .colab-df-convert {\n",
              "      background-color: #E8F0FE;\n",
              "      border: none;\n",
              "      border-radius: 50%;\n",
              "      cursor: pointer;\n",
              "      display: none;\n",
              "      fill: #1967D2;\n",
              "      height: 32px;\n",
              "      padding: 0 0 0 0;\n",
              "      width: 32px;\n",
              "    }\n",
              "\n",
              "    .colab-df-convert:hover {\n",
              "      background-color: #E2EBFA;\n",
              "      box-shadow: 0px 1px 2px rgba(60, 64, 67, 0.3), 0px 1px 3px 1px rgba(60, 64, 67, 0.15);\n",
              "      fill: #174EA6;\n",
              "    }\n",
              "\n",
              "    [theme=dark] .colab-df-convert {\n",
              "      background-color: #3B4455;\n",
              "      fill: #D2E3FC;\n",
              "    }\n",
              "\n",
              "    [theme=dark] .colab-df-convert:hover {\n",
              "      background-color: #434B5C;\n",
              "      box-shadow: 0px 1px 3px 1px rgba(0, 0, 0, 0.15);\n",
              "      filter: drop-shadow(0px 1px 2px rgba(0, 0, 0, 0.3));\n",
              "      fill: #FFFFFF;\n",
              "    }\n",
              "  </style>\n",
              "\n",
              "      <script>\n",
              "        const buttonEl =\n",
              "          document.querySelector('#df-db488e3d-a2f3-4a4b-bb6b-7ad1d49de5fe button.colab-df-convert');\n",
              "        buttonEl.style.display =\n",
              "          google.colab.kernel.accessAllowed ? 'block' : 'none';\n",
              "\n",
              "        async function convertToInteractive(key) {\n",
              "          const element = document.querySelector('#df-db488e3d-a2f3-4a4b-bb6b-7ad1d49de5fe');\n",
              "          const dataTable =\n",
              "            await google.colab.kernel.invokeFunction('convertToInteractive',\n",
              "                                                     [key], {});\n",
              "          if (!dataTable) return;\n",
              "\n",
              "          const docLinkHtml = 'Like what you see? Visit the ' +\n",
              "            '<a target=\"_blank\" href=https://colab.research.google.com/notebooks/data_table.ipynb>data table notebook</a>'\n",
              "            + ' to learn more about interactive tables.';\n",
              "          element.innerHTML = '';\n",
              "          dataTable['output_type'] = 'display_data';\n",
              "          await google.colab.output.renderOutput(dataTable, element);\n",
              "          const docLink = document.createElement('div');\n",
              "          docLink.innerHTML = docLinkHtml;\n",
              "          element.appendChild(docLink);\n",
              "        }\n",
              "      </script>\n",
              "    </div>\n",
              "  </div>\n",
              "  "
            ]
          },
          "metadata": {},
          "execution_count": 23
        }
      ]
    },
    {
      "cell_type": "markdown",
      "source": [
        "Features with correlation coefficent > 0.5 have strong correlation with cases"
      ],
      "metadata": {
        "id": "sRp8RAweR7of"
      }
    },
    {
      "cell_type": "code",
      "source": [
        "# features with correlation coefficent > 0.5 have strong correlation with cases\n",
        "strong_cor = res_tab_0[res_tab_0['corr_0'] > 0.5]\n",
        "\n",
        "fig, ax = plt.subplots(1,1, figsize=(8,8))\n",
        "sns.barplot(y = 'features_0', x = 'corr_0', data = strong_cor)\n",
        "plt.title(\"Correlation coefficients of strong correlated features with COVID-19 cases\")\n",
        "plt.xlabel(\"correlation coefficients\")\n",
        "plt.ylabel(\"features\")"
      ],
      "metadata": {
        "colab": {
          "base_uri": "https://localhost:8080/",
          "height": 530
        },
        "id": "tC9p12BgRckU",
        "outputId": "6076ff6d-2887-4a0e-df0d-aebcba70b273"
      },
      "execution_count": 24,
      "outputs": [
        {
          "output_type": "execute_result",
          "data": {
            "text/plain": [
              "Text(0, 0.5, 'features')"
            ]
          },
          "metadata": {},
          "execution_count": 24
        },
        {
          "output_type": "display_data",
          "data": {
            "text/plain": [
              "<Figure size 576x576 with 1 Axes>"
            ],
            "image/png": "[encoded data removed]"
          },
          "metadata": {
            "needs_background": "light"
          }
        }
      ]
    },
    {
      "cell_type": "code",
      "source": [
        "# features with correlation coefficent > 0.3 and < 0.5 have moderate correlation with cases\n",
        "moderate_cor = res_tab_0[(res_tab_0['corr_0'] >= 0.3) & (res_tab_0['corr_0'] < 0.5)]\n",
        "\n",
        "fig, ax = plt.subplots(1,1, figsize=(8,8))\n",
        "sns.barplot(y = 'features_0', x = 'corr_0', data = moderate_cor)\n",
        "plt.title(\"Correlation coefficients of moderate correlated features with COVID-19 cases\")\n",
        "plt.xlabel(\"correlation coefficients\")\n",
        "plt.ylabel(\"features\")"
      ],
      "metadata": {
        "colab": {
          "base_uri": "https://localhost:8080/",
          "height": 530
        },
        "id": "CeETGXP1QxLA",
        "outputId": "53624718-3be2-4f59-f741-2e13469352c7"
      },
      "execution_count": 25,
      "outputs": [
        {
          "output_type": "execute_result",
          "data": {
            "text/plain": [
              "Text(0, 0.5, 'features')"
            ]
          },
          "metadata": {},
          "execution_count": 25
        },
        {
          "output_type": "display_data",
          "data": {
            "text/plain": [
              "<Figure size 576x576 with 1 Axes>"
            ],
            "image/png": "[encoded data removed]"
          },
          "metadata": {
            "needs_background": "light"
          }
        }
      ]
    },
    {
      "cell_type": "markdown",
      "source": [
        "### Lead and Lag Pearson Correlation Coefficients"
      ],
      "metadata": {
        "id": "F9RULyV6Uu2t"
      }
    },
    {
      "cell_type": "code",
      "source": [
        "shift_sample = np.linspace(-14, 14, 29).astype('int')\n",
        "for i in shift_sample:\n",
        "  if i == shift_sample[0]:\n",
        "    final_res_tab = pcorrcoef(feature = imputed_cali_gt, outcome=cali_outcomes, shift_by=i)\n",
        "  else:\n",
        "    tmp_res_tab = pcorrcoef(feature = imputed_cali_gt, outcome=cali_outcomes, shift_by=i)\n",
        "    final_res_tab = pd.concat((final_res_tab,tmp_res_tab), axis = 1)"
      ],
      "metadata": {
        "id": "VZ2CLuSRZzHf"
      },
      "execution_count": 26,
      "outputs": []
    },
    {
      "cell_type": "code",
      "source": [
        "final_res_tab"
      ],
      "metadata": {
        "colab": {
          "base_uri": "https://localhost:8080/",
          "height": 661
        },
        "id": "0VZ7SJhAZzBf",
        "outputId": "7474e436-1528-4b95-9995-4c4c75575d50"
      },
      "execution_count": 27,
      "outputs": [
        {
          "output_type": "execute_result",
          "data": {
            "text/plain": [
              "                    features_-14  corr_-14  abs_corr_-14   p_value_-14  \\\n",
              "0         gt_after covid vaccine -0.074379      0.074379  4.324524e-02   \n",
              "1     gt_side effects of vaccine  0.026793      0.026793  4.670747e-01   \n",
              "2    gt_effects of covid vaccine  0.127301      0.127301  5.226221e-04   \n",
              "3                       gt_covid  0.478635      0.478635  1.401468e-43   \n",
              "4    gt_how long does covid last  0.453184      0.453184  1.045040e-38   \n",
              "..                           ...       ...           ...           ...   \n",
              "374                gt2_Xeroderma  0.061131      0.061131  9.680151e-02   \n",
              "375               gt2_Xerostomia -0.106960      0.106960  3.601716e-03   \n",
              "376                     gt2_Yawn -0.081810      0.081810  2.615322e-02   \n",
              "377            gt2_hyperhidrosis -0.172094      0.172094  2.532216e-06   \n",
              "378             gt2_pancreatitis  0.032226      0.032226  3.816915e-01   \n",
              "\n",
              "    relation_-14                 features_-13  corr_-13  abs_corr_-13  \\\n",
              "0       negative       gt_after covid vaccine -0.069475      0.069475   \n",
              "1       positive   gt_side effects of vaccine  0.034888      0.034888   \n",
              "2       positive  gt_effects of covid vaccine  0.135786      0.135786   \n",
              "3       positive                     gt_covid  0.488366      0.488366   \n",
              "4       positive  gt_how long does covid last  0.481980      0.481980   \n",
              "..           ...                          ...       ...           ...   \n",
              "374     positive                gt2_Xeroderma  0.058807      0.058807   \n",
              "375     negative               gt2_Xerostomia -0.089814      0.089814   \n",
              "376     negative                     gt2_Yawn -0.077098      0.077098   \n",
              "377     negative            gt2_hyperhidrosis -0.162456      0.162456   \n",
              "378     positive             gt2_pancreatitis  0.020163      0.020163   \n",
              "\n",
              "      p_value_-13 relation_-13  ...                  features_13   corr_13  \\\n",
              "0    5.906251e-02     negative  ...       gt_after covid vaccine  0.153289   \n",
              "1    3.435846e-01     positive  ...   gt_side effects of vaccine  0.249163   \n",
              "2    2.137402e-04     positive  ...  gt_effects of covid vaccine  0.377314   \n",
              "3    1.487831e-45     positive  ...                     gt_covid  0.535658   \n",
              "4    2.987161e-44     positive  ...  gt_how long does covid last  0.511747   \n",
              "..            ...          ...  ...                          ...       ...   \n",
              "374  1.101952e-01     positive  ...                gt2_Xeroderma -0.039836   \n",
              "375  1.459200e-02     negative  ...               gt2_Xerostomia  0.046457   \n",
              "376  3.613151e-02     negative  ...                     gt2_Yawn -0.093769   \n",
              "377  9.065498e-06     negative  ...            gt2_hyperhidrosis -0.139982   \n",
              "378  5.842074e-01     positive  ...             gt2_pancreatitis  0.067936   \n",
              "\n",
              "     abs_corr_13    p_value_13 relation_13                  features_14  \\\n",
              "0       0.153289  2.854271e-05    positive       gt_after covid vaccine   \n",
              "1       0.249163  6.395263e-12    positive   gt_side effects of vaccine   \n",
              "2       0.377314  2.040208e-26    positive  gt_effects of covid vaccine   \n",
              "3       0.535658  4.140852e-56    positive                     gt_covid   \n",
              "4       0.511747  1.449103e-50    positive  gt_how long does covid last   \n",
              "..           ...           ...         ...                          ...   \n",
              "374     0.039836  2.794606e-01    negative                gt2_Xeroderma   \n",
              "375     0.046457  2.071463e-01    positive               gt2_Xerostomia   \n",
              "376     0.093769  1.076093e-02    negative                     gt2_Yawn   \n",
              "377     0.139982  1.346970e-04    negative            gt2_hyperhidrosis   \n",
              "378     0.067936  6.491954e-02    positive             gt2_pancreatitis   \n",
              "\n",
              "      corr_14  abs_corr_14    p_value_14 relation_14  \n",
              "0    0.159981     0.159981  1.243381e-05    positive  \n",
              "1    0.252555     0.252555  3.232514e-12    positive  \n",
              "2    0.376500     0.376500  2.661425e-26    positive  \n",
              "3    0.523245     0.523245  3.550618e-53    positive  \n",
              "4    0.503940     0.503940  7.546189e-49    positive  \n",
              "..        ...          ...           ...         ...  \n",
              "374 -0.045104     0.045104  2.206995e-01    negative  \n",
              "375  0.047727     0.047727  1.949829e-01    positive  \n",
              "376 -0.100712     0.100712  6.141052e-03    negative  \n",
              "377 -0.134815     0.134815  2.374120e-04    negative  \n",
              "378  0.073793     0.073793  4.492367e-02    positive  \n",
              "\n",
              "[379 rows x 145 columns]"
            ],
            "text/html": [
              "\n",
              "  <div id=\"df-581692a3-f529-4d2a-9376-ff8b0bb4ac4f\">\n",
              "    <div class=\"colab-df-container\">\n",
              "      <div>\n",
              "<style scoped>\n",
              "    .dataframe tbody tr th:only-of-type {\n",
              "        vertical-align: middle;\n",
              "    }\n",
              "\n",
              "    .dataframe tbody tr th {\n",
              "        vertical-align: top;\n",
              "    }\n",
              "\n",
              "    .dataframe thead th {\n",
              "        text-align: right;\n",
              "    }\n",
              "</style>\n",
              "<table border=\"1\" class=\"dataframe\">\n",
              "  <thead>\n",
              "    <tr style=\"text-align: right;\">\n",
              "      <th></th>\n",
              "      <th>features_-14</th>\n",
              "      <th>corr_-14</th>\n",
              "      <th>abs_corr_-14</th>\n",
              "      <th>p_value_-14</th>\n",
              "      <th>relation_-14</th>\n",
              "      <th>features_-13</th>\n",
              "      <th>corr_-13</th>\n",
              "      <th>abs_corr_-13</th>\n",
              "      <th>p_value_-13</th>\n",
              "      <th>relation_-13</th>\n",
              "      <th>...</th>\n",
              "      <th>features_13</th>\n",
              "      <th>corr_13</th>\n",
              "      <th>abs_corr_13</th>\n",
              "      <th>p_value_13</th>\n",
              "      <th>relation_13</th>\n",
              "      <th>features_14</th>\n",
              "      <th>corr_14</th>\n",
              "      <th>abs_corr_14</th>\n",
              "      <th>p_value_14</th>\n",
              "      <th>relation_14</th>\n",
              "    </tr>\n",
              "  </thead>\n",
              "  <tbody>\n",
              "    <tr>\n",
              "      <th>0</th>\n",
              "      <td>gt_after covid vaccine</td>\n",
              "      <td>-0.074379</td>\n",
              "      <td>0.074379</td>\n",
              "      <td>4.324524e-02</td>\n",
              "      <td>negative</td>\n",
              "      <td>gt_after covid vaccine</td>\n",
              "      <td>-0.069475</td>\n",
              "      <td>0.069475</td>\n",
              "      <td>5.906251e-02</td>\n",
              "      <td>negative</td>\n",
              "      <td>...</td>\n",
              "      <td>gt_after covid vaccine</td>\n",
              "      <td>0.153289</td>\n",
              "      <td>0.153289</td>\n",
              "      <td>2.854271e-05</td>\n",
              "      <td>positive</td>\n",
              "      <td>gt_after covid vaccine</td>\n",
              "      <td>0.159981</td>\n",
              "      <td>0.159981</td>\n",
              "      <td>1.243381e-05</td>\n",
              "      <td>positive</td>\n",
              "    </tr>\n",
              "    <tr>\n",
              "      <th>1</th>\n",
              "      <td>gt_side effects of vaccine</td>\n",
              "      <td>0.026793</td>\n",
              "      <td>0.026793</td>\n",
              "      <td>4.670747e-01</td>\n",
              "      <td>positive</td>\n",
              "      <td>gt_side effects of vaccine</td>\n",
              "      <td>0.034888</td>\n",
              "      <td>0.034888</td>\n",
              "      <td>3.435846e-01</td>\n",
              "      <td>positive</td>\n",
              "      <td>...</td>\n",
              "      <td>gt_side effects of vaccine</td>\n",
              "      <td>0.249163</td>\n",
              "      <td>0.249163</td>\n",
              "      <td>6.395263e-12</td>\n",
              "      <td>positive</td>\n",
              "      <td>gt_side effects of vaccine</td>\n",
              "      <td>0.252555</td>\n",
              "      <td>0.252555</td>\n",
              "      <td>3.232514e-12</td>\n",
              "      <td>positive</td>\n",
              "    </tr>\n",
              "    <tr>\n",
              "      <th>2</th>\n",
              "      <td>gt_effects of covid vaccine</td>\n",
              "      <td>0.127301</td>\n",
              "      <td>0.127301</td>\n",
              "      <td>5.226221e-04</td>\n",
              "      <td>positive</td>\n",
              "      <td>gt_effects of covid vaccine</td>\n",
              "      <td>0.135786</td>\n",
              "      <td>0.135786</td>\n",
              "      <td>2.137402e-04</td>\n",
              "      <td>positive</td>\n",
              "      <td>...</td>\n",
              "      <td>gt_effects of covid vaccine</td>\n",
              "      <td>0.377314</td>\n",
              "      <td>0.377314</td>\n",
              "      <td>2.040208e-26</td>\n",
              "      <td>positive</td>\n",
              "      <td>gt_effects of covid vaccine</td>\n",
              "      <td>0.376500</td>\n",
              "      <td>0.376500</td>\n",
              "      <td>2.661425e-26</td>\n",
              "      <td>positive</td>\n",
              "    </tr>\n",
              "    <tr>\n",
              "      <th>3</th>\n",
              "      <td>gt_covid</td>\n",
              "      <td>0.478635</td>\n",
              "      <td>0.478635</td>\n",
              "      <td>1.401468e-43</td>\n",
              "      <td>positive</td>\n",
              "      <td>gt_covid</td>\n",
              "      <td>0.488366</td>\n",
              "      <td>0.488366</td>\n",
              "      <td>1.487831e-45</td>\n",
              "      <td>positive</td>\n",
              "      <td>...</td>\n",
              "      <td>gt_covid</td>\n",
              "      <td>0.535658</td>\n",
              "      <td>0.535658</td>\n",
              "      <td>4.140852e-56</td>\n",
              "      <td>positive</td>\n",
              "      <td>gt_covid</td>\n",
              "      <td>0.523245</td>\n",
              "      <td>0.523245</td>\n",
              "      <td>3.550618e-53</td>\n",
              "      <td>positive</td>\n",
              "    </tr>\n",
              "    <tr>\n",
              "      <th>4</th>\n",
              "      <td>gt_how long does covid last</td>\n",
              "      <td>0.453184</td>\n",
              "      <td>0.453184</td>\n",
              "      <td>1.045040e-38</td>\n",
              "      <td>positive</td>\n",
              "      <td>gt_how long does covid last</td>\n",
              "      <td>0.481980</td>\n",
              "      <td>0.481980</td>\n",
              "      <td>2.987161e-44</td>\n",
              "      <td>positive</td>\n",
              "      <td>...</td>\n",
              "      <td>gt_how long does covid last</td>\n",
              "      <td>0.511747</td>\n",
              "      <td>0.511747</td>\n",
              "      <td>1.449103e-50</td>\n",
              "      <td>positive</td>\n",
              "      <td>gt_how long does covid last</td>\n",
              "      <td>0.503940</td>\n",
              "      <td>0.503940</td>\n",
              "      <td>7.546189e-49</td>\n",
              "      <td>positive</td>\n",
              "    </tr>\n",
              "    <tr>\n",
              "      <th>...</th>\n",
              "      <td>...</td>\n",
              "      <td>...</td>\n",
              "      <td>...</td>\n",
              "      <td>...</td>\n",
              "      <td>...</td>\n",
              "      <td>...</td>\n",
              "      <td>...</td>\n",
              "      <td>...</td>\n",
              "      <td>...</td>\n",
              "      <td>...</td>\n",
              "      <td>...</td>\n",
              "      <td>...</td>\n",
              "      <td>...</td>\n",
              "      <td>...</td>\n",
              "      <td>...</td>\n",
              "      <td>...</td>\n",
              "      <td>...</td>\n",
              "      <td>...</td>\n",
              "      <td>...</td>\n",
              "      <td>...</td>\n",
              "      <td>...</td>\n",
              "    </tr>\n",
              "    <tr>\n",
              "      <th>374</th>\n",
              "      <td>gt2_Xeroderma</td>\n",
              "      <td>0.061131</td>\n",
              "      <td>0.061131</td>\n",
              "      <td>9.680151e-02</td>\n",
              "      <td>positive</td>\n",
              "      <td>gt2_Xeroderma</td>\n",
              "      <td>0.058807</td>\n",
              "      <td>0.058807</td>\n",
              "      <td>1.101952e-01</td>\n",
              "      <td>positive</td>\n",
              "      <td>...</td>\n",
              "      <td>gt2_Xeroderma</td>\n",
              "      <td>-0.039836</td>\n",
              "      <td>0.039836</td>\n",
              "      <td>2.794606e-01</td>\n",
              "      <td>negative</td>\n",
              "      <td>gt2_Xeroderma</td>\n",
              "      <td>-0.045104</td>\n",
              "      <td>0.045104</td>\n",
              "      <td>2.206995e-01</td>\n",
              "      <td>negative</td>\n",
              "    </tr>\n",
              "    <tr>\n",
              "      <th>375</th>\n",
              "      <td>gt2_Xerostomia</td>\n",
              "      <td>-0.106960</td>\n",
              "      <td>0.106960</td>\n",
              "      <td>3.601716e-03</td>\n",
              "      <td>negative</td>\n",
              "      <td>gt2_Xerostomia</td>\n",
              "      <td>-0.089814</td>\n",
              "      <td>0.089814</td>\n",
              "      <td>1.459200e-02</td>\n",
              "      <td>negative</td>\n",
              "      <td>...</td>\n",
              "      <td>gt2_Xerostomia</td>\n",
              "      <td>0.046457</td>\n",
              "      <td>0.046457</td>\n",
              "      <td>2.071463e-01</td>\n",
              "      <td>positive</td>\n",
              "      <td>gt2_Xerostomia</td>\n",
              "      <td>0.047727</td>\n",
              "      <td>0.047727</td>\n",
              "      <td>1.949829e-01</td>\n",
              "      <td>positive</td>\n",
              "    </tr>\n",
              "    <tr>\n",
              "      <th>376</th>\n",
              "      <td>gt2_Yawn</td>\n",
              "      <td>-0.081810</td>\n",
              "      <td>0.081810</td>\n",
              "      <td>2.615322e-02</td>\n",
              "      <td>negative</td>\n",
              "      <td>gt2_Yawn</td>\n",
              "      <td>-0.077098</td>\n",
              "      <td>0.077098</td>\n",
              "      <td>3.613151e-02</td>\n",
              "      <td>negative</td>\n",
              "      <td>...</td>\n",
              "      <td>gt2_Yawn</td>\n",
              "      <td>-0.093769</td>\n",
              "      <td>0.093769</td>\n",
              "      <td>1.076093e-02</td>\n",
              "      <td>negative</td>\n",
              "      <td>gt2_Yawn</td>\n",
              "      <td>-0.100712</td>\n",
              "      <td>0.100712</td>\n",
              "      <td>6.141052e-03</td>\n",
              "      <td>negative</td>\n",
              "    </tr>\n",
              "    <tr>\n",
              "      <th>377</th>\n",
              "      <td>gt2_hyperhidrosis</td>\n",
              "      <td>-0.172094</td>\n",
              "      <td>0.172094</td>\n",
              "      <td>2.532216e-06</td>\n",
              "      <td>negative</td>\n",
              "      <td>gt2_hyperhidrosis</td>\n",
              "      <td>-0.162456</td>\n",
              "      <td>0.162456</td>\n",
              "      <td>9.065498e-06</td>\n",
              "      <td>negative</td>\n",
              "      <td>...</td>\n",
              "      <td>gt2_hyperhidrosis</td>\n",
              "      <td>-0.139982</td>\n",
              "      <td>0.139982</td>\n",
              "      <td>1.346970e-04</td>\n",
              "      <td>negative</td>\n",
              "      <td>gt2_hyperhidrosis</td>\n",
              "      <td>-0.134815</td>\n",
              "      <td>0.134815</td>\n",
              "      <td>2.374120e-04</td>\n",
              "      <td>negative</td>\n",
              "    </tr>\n",
              "    <tr>\n",
              "      <th>378</th>\n",
              "      <td>gt2_pancreatitis</td>\n",
              "      <td>0.032226</td>\n",
              "      <td>0.032226</td>\n",
              "      <td>3.816915e-01</td>\n",
              "      <td>positive</td>\n",
              "      <td>gt2_pancreatitis</td>\n",
              "      <td>0.020163</td>\n",
              "      <td>0.020163</td>\n",
              "      <td>5.842074e-01</td>\n",
              "      <td>positive</td>\n",
              "      <td>...</td>\n",
              "      <td>gt2_pancreatitis</td>\n",
              "      <td>0.067936</td>\n",
              "      <td>0.067936</td>\n",
              "      <td>6.491954e-02</td>\n",
              "      <td>positive</td>\n",
              "      <td>gt2_pancreatitis</td>\n",
              "      <td>0.073793</td>\n",
              "      <td>0.073793</td>\n",
              "      <td>4.492367e-02</td>\n",
              "      <td>positive</td>\n",
              "    </tr>\n",
              "  </tbody>\n",
              "</table>\n",
              "<p>379 rows × 145 columns</p>\n",
              "</div>\n",
              "      <button class=\"colab-df-convert\" onclick=\"convertToInteractive('df-581692a3-f529-4d2a-9376-ff8b0bb4ac4f')\"\n",
              "              title=\"Convert this dataframe to an interactive table.\"\n",
              "              style=\"display:none;\">\n",
              "        \n",
              "  <svg xmlns=\"http://www.w3.org/2000/svg\" height=\"24px\"viewBox=\"0 0 24 24\"\n",
              "       width=\"24px\">\n",
              "    <path d=\"M0 0h24v24H0V0z\" fill=\"none\"/>\n",
              "    <path d=\"M18.56 5.44l.94 2.06.94-2.06 2.06-.94-2.06-.94-.94-2.06-.94 2.06-2.06.94zm-11 1L8.5 8.5l.94-2.06 2.06-.94-2.06-.94L8.5 2.5l-.94 2.06-2.06.94zm10 10l.94 2.06.94-2.06 2.06-.94-2.06-.94-.94-2.06-.94 2.06-2.06.94z\"/><path d=\"M17.41 7.96l-1.37-1.37c-.4-.4-.92-.59-1.43-.59-.52 0-1.04.2-1.43.59L10.3 9.45l-7.72 7.72c-.78.78-.78 2.05 0 2.83L4 21.41c.39.39.9.59 1.41.59.51 0 1.02-.2 1.41-.59l7.78-7.78 2.81-2.81c.8-.78.8-2.07 0-2.86zM5.41 20L4 18.59l7.72-7.72 1.47 1.35L5.41 20z\"/>\n",
              "  </svg>\n",
              "      </button>\n",
              "      \n",
              "  <style>\n",
              "    .colab-df-container {\n",
              "      display:flex;\n",
              "      flex-wrap:wrap;\n",
              "      gap: 12px;\n",
              "    }\n",
              "\n",
              "    .colab-df-convert {\n",
              "      background-color: #E8F0FE;\n",
              "      border: none;\n",
              "      border-radius: 50%;\n",
              "      cursor: pointer;\n",
              "      display: none;\n",
              "      fill: #1967D2;\n",
              "      height: 32px;\n",
              "      padding: 0 0 0 0;\n",
              "      width: 32px;\n",
              "    }\n",
              "\n",
              "    .colab-df-convert:hover {\n",
              "      background-color: #E2EBFA;\n",
              "      box-shadow: 0px 1px 2px rgba(60, 64, 67, 0.3), 0px 1px 3px 1px rgba(60, 64, 67, 0.15);\n",
              "      fill: #174EA6;\n",
              "    }\n",
              "\n",
              "    [theme=dark] .colab-df-convert {\n",
              "      background-color: #3B4455;\n",
              "      fill: #D2E3FC;\n",
              "    }\n",
              "\n",
              "    [theme=dark] .colab-df-convert:hover {\n",
              "      background-color: #434B5C;\n",
              "      box-shadow: 0px 1px 3px 1px rgba(0, 0, 0, 0.15);\n",
              "      filter: drop-shadow(0px 1px 2px rgba(0, 0, 0, 0.3));\n",
              "      fill: #FFFFFF;\n",
              "    }\n",
              "  </style>\n",
              "\n",
              "      <script>\n",
              "        const buttonEl =\n",
              "          document.querySelector('#df-581692a3-f529-4d2a-9376-ff8b0bb4ac4f button.colab-df-convert');\n",
              "        buttonEl.style.display =\n",
              "          google.colab.kernel.accessAllowed ? 'block' : 'none';\n",
              "\n",
              "        async function convertToInteractive(key) {\n",
              "          const element = document.querySelector('#df-581692a3-f529-4d2a-9376-ff8b0bb4ac4f');\n",
              "          const dataTable =\n",
              "            await google.colab.kernel.invokeFunction('convertToInteractive',\n",
              "                                                     [key], {});\n",
              "          if (!dataTable) return;\n",
              "\n",
              "          const docLinkHtml = 'Like what you see? Visit the ' +\n",
              "            '<a target=\"_blank\" href=https://colab.research.google.com/notebooks/data_table.ipynb>data table notebook</a>'\n",
              "            + ' to learn more about interactive tables.';\n",
              "          element.innerHTML = '';\n",
              "          dataTable['output_type'] = 'display_data';\n",
              "          await google.colab.output.renderOutput(dataTable, element);\n",
              "          const docLink = document.createElement('div');\n",
              "          docLink.innerHTML = docLinkHtml;\n",
              "          element.appendChild(docLink);\n",
              "        }\n",
              "      </script>\n",
              "    </div>\n",
              "  </div>\n",
              "  "
            ]
          },
          "metadata": {},
          "execution_count": 27
        }
      ]
    },
    {
      "cell_type": "markdown",
      "source": [
        "We find that there the lag or lead correlation coefficients for a feature can vary between 0.01 and 0.30. "
      ],
      "metadata": {
        "id": "Zij6YFNfcZEe"
      }
    },
    {
      "cell_type": "code",
      "source": [
        "select_abs_corr = [col for col in final_res_tab.columns if 'abs_corr' in col]\n",
        "select_tab = final_res_tab[select_abs_corr]\n",
        "select_tab['minmax_diff'] = select_tab.apply(lambda x: max(x)-min(x), axis=1)\n",
        "select_tab[['minmax_diff']].describe()"
      ],
      "metadata": {
        "colab": {
          "base_uri": "https://localhost:8080/",
          "height": 404
        },
        "id": "O2sxCNqgbeoX",
        "outputId": "44a97416-cb71-4715-b653-d068f76fc01d"
      },
      "execution_count": 28,
      "outputs": [
        {
          "output_type": "stream",
          "name": "stderr",
          "text": [
            "/usr/local/lib/python3.7/dist-packages/ipykernel_launcher.py:3: SettingWithCopyWarning: \n",
            "A value is trying to be set on a copy of a slice from a DataFrame.\n",
            "Try using .loc[row_indexer,col_indexer] = value instead\n",
            "\n",
            "See the caveats in the documentation: https://pandas.pydata.org/pandas-docs/stable/user_guide/indexing.html#returning-a-view-versus-a-copy\n",
            "  This is separate from the ipykernel package so we can avoid doing imports until\n"
          ]
        },
        {
          "output_type": "execute_result",
          "data": {
            "text/plain": [
              "       minmax_diff\n",
              "count   379.000000\n",
              "mean      0.109449\n",
              "std       0.058573\n",
              "min       0.010472\n",
              "25%       0.061671\n",
              "50%       0.099199\n",
              "75%       0.147630\n",
              "max       0.298565"
            ],
            "text/html": [
              "\n",
              "  <div id=\"df-48660b47-07d6-4200-a297-a034d5b52a90\">\n",
              "    <div class=\"colab-df-container\">\n",
              "      <div>\n",
              "<style scoped>\n",
              "    .dataframe tbody tr th:only-of-type {\n",
              "        vertical-align: middle;\n",
              "    }\n",
              "\n",
              "    .dataframe tbody tr th {\n",
              "        vertical-align: top;\n",
              "    }\n",
              "\n",
              "    .dataframe thead th {\n",
              "        text-align: right;\n",
              "    }\n",
              "</style>\n",
              "<table border=\"1\" class=\"dataframe\">\n",
              "  <thead>\n",
              "    <tr style=\"text-align: right;\">\n",
              "      <th></th>\n",
              "      <th>minmax_diff</th>\n",
              "    </tr>\n",
              "  </thead>\n",
              "  <tbody>\n",
              "    <tr>\n",
              "      <th>count</th>\n",
              "      <td>379.000000</td>\n",
              "    </tr>\n",
              "    <tr>\n",
              "      <th>mean</th>\n",
              "      <td>0.109449</td>\n",
              "    </tr>\n",
              "    <tr>\n",
              "      <th>std</th>\n",
              "      <td>0.058573</td>\n",
              "    </tr>\n",
              "    <tr>\n",
              "      <th>min</th>\n",
              "      <td>0.010472</td>\n",
              "    </tr>\n",
              "    <tr>\n",
              "      <th>25%</th>\n",
              "      <td>0.061671</td>\n",
              "    </tr>\n",
              "    <tr>\n",
              "      <th>50%</th>\n",
              "      <td>0.099199</td>\n",
              "    </tr>\n",
              "    <tr>\n",
              "      <th>75%</th>\n",
              "      <td>0.147630</td>\n",
              "    </tr>\n",
              "    <tr>\n",
              "      <th>max</th>\n",
              "      <td>0.298565</td>\n",
              "    </tr>\n",
              "  </tbody>\n",
              "</table>\n",
              "</div>\n",
              "      <button class=\"colab-df-convert\" onclick=\"convertToInteractive('df-48660b47-07d6-4200-a297-a034d5b52a90')\"\n",
              "              title=\"Convert this dataframe to an interactive table.\"\n",
              "              style=\"display:none;\">\n",
              "        \n",
              "  <svg xmlns=\"http://www.w3.org/2000/svg\" height=\"24px\"viewBox=\"0 0 24 24\"\n",
              "       width=\"24px\">\n",
              "    <path d=\"M0 0h24v24H0V0z\" fill=\"none\"/>\n",
              "    <path d=\"M18.56 5.44l.94 2.06.94-2.06 2.06-.94-2.06-.94-.94-2.06-.94 2.06-2.06.94zm-11 1L8.5 8.5l.94-2.06 2.06-.94-2.06-.94L8.5 2.5l-.94 2.06-2.06.94zm10 10l.94 2.06.94-2.06 2.06-.94-2.06-.94-.94-2.06-.94 2.06-2.06.94z\"/><path d=\"M17.41 7.96l-1.37-1.37c-.4-.4-.92-.59-1.43-.59-.52 0-1.04.2-1.43.59L10.3 9.45l-7.72 7.72c-.78.78-.78 2.05 0 2.83L4 21.41c.39.39.9.59 1.41.59.51 0 1.02-.2 1.41-.59l7.78-7.78 2.81-2.81c.8-.78.8-2.07 0-2.86zM5.41 20L4 18.59l7.72-7.72 1.47 1.35L5.41 20z\"/>\n",
              "  </svg>\n",
              "      </button>\n",
              "      \n",
              "  <style>\n",
              "    .colab-df-container {\n",
              "      display:flex;\n",
              "      flex-wrap:wrap;\n",
              "      gap: 12px;\n",
              "    }\n",
              "\n",
              "    .colab-df-convert {\n",
              "      background-color: #E8F0FE;\n",
              "      border: none;\n",
              "      border-radius: 50%;\n",
              "      cursor: pointer;\n",
              "      display: none;\n",
              "      fill: #1967D2;\n",
              "      height: 32px;\n",
              "      padding: 0 0 0 0;\n",
              "      width: 32px;\n",
              "    }\n",
              "\n",
              "    .colab-df-convert:hover {\n",
              "      background-color: #E2EBFA;\n",
              "      box-shadow: 0px 1px 2px rgba(60, 64, 67, 0.3), 0px 1px 3px 1px rgba(60, 64, 67, 0.15);\n",
              "      fill: #174EA6;\n",
              "    }\n",
              "\n",
              "    [theme=dark] .colab-df-convert {\n",
              "      background-color: #3B4455;\n",
              "      fill: #D2E3FC;\n",
              "    }\n",
              "\n",
              "    [theme=dark] .colab-df-convert:hover {\n",
              "      background-color: #434B5C;\n",
              "      box-shadow: 0px 1px 3px 1px rgba(0, 0, 0, 0.15);\n",
              "      filter: drop-shadow(0px 1px 2px rgba(0, 0, 0, 0.3));\n",
              "      fill: #FFFFFF;\n",
              "    }\n",
              "  </style>\n",
              "\n",
              "      <script>\n",
              "        const buttonEl =\n",
              "          document.querySelector('#df-48660b47-07d6-4200-a297-a034d5b52a90 button.colab-df-convert');\n",
              "        buttonEl.style.display =\n",
              "          google.colab.kernel.accessAllowed ? 'block' : 'none';\n",
              "\n",
              "        async function convertToInteractive(key) {\n",
              "          const element = document.querySelector('#df-48660b47-07d6-4200-a297-a034d5b52a90');\n",
              "          const dataTable =\n",
              "            await google.colab.kernel.invokeFunction('convertToInteractive',\n",
              "                                                     [key], {});\n",
              "          if (!dataTable) return;\n",
              "\n",
              "          const docLinkHtml = 'Like what you see? Visit the ' +\n",
              "            '<a target=\"_blank\" href=https://colab.research.google.com/notebooks/data_table.ipynb>data table notebook</a>'\n",
              "            + ' to learn more about interactive tables.';\n",
              "          element.innerHTML = '';\n",
              "          dataTable['output_type'] = 'display_data';\n",
              "          await google.colab.output.renderOutput(dataTable, element);\n",
              "          const docLink = document.createElement('div');\n",
              "          docLink.innerHTML = docLinkHtml;\n",
              "          element.appendChild(docLink);\n",
              "        }\n",
              "      </script>\n",
              "    </div>\n",
              "  </div>\n",
              "  "
            ]
          },
          "metadata": {},
          "execution_count": 28
        }
      ]
    },
    {
      "cell_type": "markdown",
      "source": [
        "Now we select features by the maximum abs lag or lead correlation coefficients. Those features are correlated with the number of cases or lag trend of the number of cases or lead trend of the number of cases. They are useful for building a predictive model for COVID-19 cases."
      ],
      "metadata": {
        "id": "PeicqM62dpga"
      }
    },
    {
      "cell_type": "code",
      "source": [
        "final_res_tab['max_abs_corr'] = select_tab.apply(lambda x: max(x), axis=1)\n",
        "final_res_tab = final_res_tab.sort_values(by = 'max_abs_corr', ascending = False)\n",
        "\n",
        "# features with correlation coefficent > 0.5 have strong correlation with cases\n",
        "strong_cor = final_res_tab[final_res_tab['max_abs_corr'] > 0.5]\n",
        "\n",
        "fig, ax = plt.subplots(1,1, figsize=(8,8))\n",
        "sns.barplot(y = 'features_0', x = 'max_abs_corr', data = strong_cor)\n",
        "plt.title(\"Correlation coefficients of strong correlated features with COVID-19 cases\")\n",
        "plt.xlabel(\"correlation coefficients\")\n",
        "plt.ylabel(\"features\")"
      ],
      "metadata": {
        "colab": {
          "base_uri": "https://localhost:8080/",
          "height": 530
        },
        "id": "6AJZejM6eFHR",
        "outputId": "80bbe515-18ce-4918-ae39-2ede1d413784"
      },
      "execution_count": 29,
      "outputs": [
        {
          "output_type": "execute_result",
          "data": {
            "text/plain": [
              "Text(0, 0.5, 'features')"
            ]
          },
          "metadata": {},
          "execution_count": 29
        },
        {
          "output_type": "display_data",
          "data": {
            "text/plain": [
              "<Figure size 576x576 with 1 Axes>"
            ],
            "image/png": "[encoded data removed]"
          },
          "metadata": {
            "needs_background": "light"
          }
        }
      ]
    },
    {
      "cell_type": "code",
      "source": [
        "# features with correlation coefficent > 0.3 and < 0.5 have moderate correlation with cases\n",
        "moderate_cor = final_res_tab[(final_res_tab['max_abs_corr'] < 0.5) & (final_res_tab['max_abs_corr'] >= 0.3)]\n",
        "\n",
        "fig, ax = plt.subplots(1,1, figsize=(8,8))\n",
        "sns.barplot(y = 'features_0', x = 'max_abs_corr', data = moderate_cor)\n",
        "plt.title(\"Correlation coefficients of moderate correlated features with COVID-19 cases\")\n",
        "plt.xlabel(\"correlation coefficients\")\n",
        "plt.ylabel(\"features\")"
      ],
      "metadata": {
        "colab": {
          "base_uri": "https://localhost:8080/",
          "height": 530
        },
        "id": "GKiRCn3sf3PR",
        "outputId": "22273794-4894-48e8-de49-1341b8a9b60c"
      },
      "execution_count": 30,
      "outputs": [
        {
          "output_type": "execute_result",
          "data": {
            "text/plain": [
              "Text(0, 0.5, 'features')"
            ]
          },
          "metadata": {},
          "execution_count": 30
        },
        {
          "output_type": "display_data",
          "data": {
            "text/plain": [
              "<Figure size 576x576 with 1 Axes>"
            ],
            "image/png": "[encoded data removed]"
          },
          "metadata": {
            "needs_background": "light"
          }
        }
      ]
    },
    {
      "cell_type": "code",
      "source": [
        "# features with correlation coefficent > 0.3 a\n",
        "strong_moderate_cor = final_res_tab[final_res_tab['max_abs_corr'] >= 0.3]\n",
        "\n",
        "fig, ax = plt.subplots(1,1, figsize=(8,8))\n",
        "sns.barplot(y = 'features_0', x = 'max_abs_corr', data = strong_moderate_cor)\n",
        "plt.title(\"Correlation coefficients of strongly and moderately correlated features with COVID-19 cases\")\n",
        "plt.xlabel(\"correlation coefficients\")\n",
        "plt.ylabel(\"features\")"
      ],
      "metadata": {
        "colab": {
          "base_uri": "https://localhost:8080/",
          "height": 530
        },
        "id": "6ikhlKTbsg8e",
        "outputId": "d7dc5761-e514-4610-bbc5-e9a943b0f047"
      },
      "execution_count": 35,
      "outputs": [
        {
          "output_type": "execute_result",
          "data": {
            "text/plain": [
              "Text(0, 0.5, 'features')"
            ]
          },
          "metadata": {},
          "execution_count": 35
        },
        {
          "output_type": "display_data",
          "data": {
            "text/plain": [
              "<Figure size 576x576 with 1 Axes>"
            ],
            "image/png": "[encoded data removed]"
          },
          "metadata": {
            "needs_background": "light"
          }
        }
      ]
    },
    {
      "cell_type": "code",
      "source": [
        "moderate_features = moderate_cor['features_0'].values\n",
        "print(moderate_features)\n",
        "strong_features = strong_cor['features_0'].values\n",
        "print(strong_features)\n",
        "\n",
        "full_selected_features = list(strong_features) + list(moderate_features)\n",
        "print(full_selected_features)"
      ],
      "metadata": {
        "colab": {
          "base_uri": "https://localhost:8080/"
        },
        "id": "gEYJS40Ef3Kr",
        "outputId": "9c48e811-f865-42cc-a4a5-afb8bcc78454"
      },
      "execution_count": 31,
      "outputs": [
        {
          "output_type": "stream",
          "name": "stdout",
          "text": [
            "['gt2_Eye pain' 'gt2_Tachycardia' 'gt_effects of covid vaccine'\n",
            " 'gt2_Bradycardia' 'gt2_Abdominal obesity' 'gt2_Skin condition'\n",
            " 'gt2_Palpitations' 'gt2_Grandiosity' 'gt2_Skin rash'\n",
            " 'gt2_Erectile dysfunction' 'gt2_Conjunctivitis' 'gt2_Telangiectasia'\n",
            " 'gt2_Weight gain']\n",
            "['gt_how long does covid last' 'gt_covid' 'gt_covid symptoms'\n",
            " 'gt2_Hypoxemia' 'gt_loss taste' 'gt_loss of smell' 'gt_loss smell'\n",
            " 'gt2_Dysgeusia' \"gt2_Bell's palsy\" 'gt2_Facial nerve paralysis']\n",
            "['gt_how long does covid last', 'gt_covid', 'gt_covid symptoms', 'gt2_Hypoxemia', 'gt_loss taste', 'gt_loss of smell', 'gt_loss smell', 'gt2_Dysgeusia', \"gt2_Bell's palsy\", 'gt2_Facial nerve paralysis', 'gt2_Eye pain', 'gt2_Tachycardia', 'gt_effects of covid vaccine', 'gt2_Bradycardia', 'gt2_Abdominal obesity', 'gt2_Skin condition', 'gt2_Palpitations', 'gt2_Grandiosity', 'gt2_Skin rash', 'gt2_Erectile dysfunction', 'gt2_Conjunctivitis', 'gt2_Telangiectasia', 'gt2_Weight gain']\n"
          ]
        }
      ]
    },
    {
      "cell_type": "markdown",
      "source": [
        "### Correlation among selected features"
      ],
      "metadata": {
        "id": "_H_w4VYeiw21"
      }
    },
    {
      "cell_type": "markdown",
      "source": [
        "Display this heatmap to visualize the correlations between each pair of the google trend features"
      ],
      "metadata": {
        "id": "PT1kaXJBjbma"
      }
    },
    {
      "cell_type": "code",
      "source": [
        "fig = plt.subplots(1,1, figsize = (15,8))\n",
        "corr_res = imputed_cali_gt[full_selected_features].corr()\n",
        "sns.heatmap(corr_res)"
      ],
      "metadata": {
        "colab": {
          "base_uri": "https://localhost:8080/",
          "height": 632
        },
        "id": "fJTLRIz_iwZl",
        "outputId": "491b9fd9-3546-4910-cb23-1024cf0893ea"
      },
      "execution_count": 32,
      "outputs": [
        {
          "output_type": "execute_result",
          "data": {
            "text/plain": [
              "<matplotlib.axes._subplots.AxesSubplot at 0x7fc3ad925fd0>"
            ]
          },
          "metadata": {},
          "execution_count": 32
        },
        {
          "output_type": "display_data",
          "data": {
            "text/plain": [
              "<Figure size 1080x576 with 2 Axes>"
            ],
            "image/png": "[encoded data removed]"
          },
          "metadata": {
            "needs_background": "light"
          }
        }
      ]
    },
    {
      "cell_type": "markdown",
      "source": [
        "We observe two high correlated features: facial nerve paralysis and bell's palsy. We decide to delete Facial nerve paralysis. "
      ],
      "metadata": {
        "id": "LkNJZIP6j94W"
      }
    },
    {
      "cell_type": "code",
      "source": [
        "full_selected_features.remove('gt2_Facial nerve paralysis')\n",
        "full_selected_features"
      ],
      "metadata": {
        "colab": {
          "base_uri": "https://localhost:8080/"
        },
        "id": "BCSO_JjSiwRb",
        "outputId": "4d7d853f-e2fb-4dec-85f8-d70df1960c1f"
      },
      "execution_count": 33,
      "outputs": [
        {
          "output_type": "execute_result",
          "data": {
            "text/plain": [
              "['gt_how long does covid last',\n",
              " 'gt_covid',\n",
              " 'gt_covid symptoms',\n",
              " 'gt2_Hypoxemia',\n",
              " 'gt_loss taste',\n",
              " 'gt_loss of smell',\n",
              " 'gt_loss smell',\n",
              " 'gt2_Dysgeusia',\n",
              " \"gt2_Bell's palsy\",\n",
              " 'gt2_Eye pain',\n",
              " 'gt2_Tachycardia',\n",
              " 'gt_effects of covid vaccine',\n",
              " 'gt2_Bradycardia',\n",
              " 'gt2_Abdominal obesity',\n",
              " 'gt2_Skin condition',\n",
              " 'gt2_Palpitations',\n",
              " 'gt2_Grandiosity',\n",
              " 'gt2_Skin rash',\n",
              " 'gt2_Erectile dysfunction',\n",
              " 'gt2_Conjunctivitis',\n",
              " 'gt2_Telangiectasia',\n",
              " 'gt2_Weight gain']"
            ]
          },
          "metadata": {},
          "execution_count": 33
        }
      ]
    }
  ]
}